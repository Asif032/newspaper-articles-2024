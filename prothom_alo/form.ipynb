{
 "cells": [
  {
   "cell_type": "code",
   "execution_count": 33,
   "metadata": {},
   "outputs": [],
   "source": [
    "import pandas as pd"
   ]
  },
  {
   "cell_type": "code",
   "execution_count": 34,
   "metadata": {},
   "outputs": [],
   "source": [
    "df = pd.read_csv('prothom_alo_news_articles.csv')"
   ]
  },
  {
   "cell_type": "code",
   "execution_count": 35,
   "metadata": {},
   "outputs": [
    {
     "name": "stdout",
     "output_type": "stream",
     "text": [
      "<class 'pandas.core.frame.DataFrame'>\n",
      "RangeIndex: 67889 entries, 0 to 67888\n",
      "Data columns (total 8 columns):\n",
      " #   Column          Non-Null Count  Dtype \n",
      "---  ------          --------------  ----- \n",
      " 0   date_published  67889 non-null  object\n",
      " 1   date_modified   67889 non-null  object\n",
      " 2   author          65343 non-null  object\n",
      " 3   category        67316 non-null  object\n",
      " 4   tag             67889 non-null  object\n",
      " 5   title           67889 non-null  object\n",
      " 6   url             67889 non-null  object\n",
      " 7   content         65633 non-null  object\n",
      "dtypes: object(8)\n",
      "memory usage: 4.1+ MB\n"
     ]
    }
   ],
   "source": [
    "df.info()"
   ]
  },
  {
   "cell_type": "code",
   "execution_count": 36,
   "metadata": {},
   "outputs": [],
   "source": [
    "awami_gov_df = df[df['date_published'] <= '2024-08-04']\n",
    "interim_gov_df = df[df['date_published'] >= '2024-08-08']"
   ]
  },
  {
   "cell_type": "code",
   "execution_count": 37,
   "metadata": {},
   "outputs": [
    {
     "name": "stdout",
     "output_type": "stream",
     "text": [
      "al_awami_gov: 778\n",
      "bsl_awami_gov: 379\n"
     ]
    }
   ],
   "source": [
    "include_words = ['আওয়ামী', \"আ'লীগ\", 'আ.লীগ', 'শেখ হাসিনা', 'ওবায়দুল কাদের']\n",
    "exclude_words = ['সরকারি']\n",
    "\n",
    "# Create regex patterns from the lists\n",
    "include_pattern = '|'.join(include_words)\n",
    "exclude_pattern = '|'.join(exclude_words)\n",
    "\n",
    "# Apply the filter\n",
    "al_awami_gov = awami_gov_df[\n",
    "  awami_gov_df['title'].str.contains(include_pattern, na=False) &\n",
    "  ~awami_gov_df['title'].str.contains(exclude_pattern, na=False)\n",
    "]\n",
    "len_al_awami_gov = len(al_awami_gov)\n",
    "print(f\"al_awami_gov: {len_al_awami_gov}\")\n",
    "# print(al_awami_gov.head()['title'])\n",
    "\n",
    "search_word = 'ছাত্রলীগ'\n",
    "bsl_awami_gov = awami_gov_df[awami_gov_df['title'].str.contains(search_word, na=False)]\n",
    "len_bsl_awami_gov = len(bsl_awami_gov)\n",
    "print(f\"bsl_awami_gov: {len_bsl_awami_gov}\")\n",
    "# print(bsl_awami_gov.head()['title'])"
   ]
  },
  {
   "cell_type": "code",
   "execution_count": 38,
   "metadata": {},
   "outputs": [
    {
     "name": "stdout",
     "output_type": "stream",
     "text": [
      "al_interim_gov: 616\n",
      "bsl_interim_gov: 123\n"
     ]
    }
   ],
   "source": [
    "include_words = ['আওয়ামী', \"আ'লীগ\", 'আ.লীগ', 'শেখ হাসিনা', 'ওবায়দুল কাদের']\n",
    "\n",
    "# Create regex patterns from the lists\n",
    "include_pattern = '|'.join(include_words)\n",
    "\n",
    "# Apply the filter\n",
    "al_interim_gov = interim_gov_df[\n",
    "  interim_gov_df['title'].str.contains(include_pattern, na=False)\n",
    "]\n",
    "len_al_interim_gov = len(al_interim_gov)\n",
    "print(f\"al_interim_gov: {len_al_interim_gov}\")\n",
    "# print(al_interim_gov.head()['title'])\n",
    "\n",
    "search_word = 'ছাত্রলীগ'\n",
    "bsl_interim_gov = interim_gov_df[interim_gov_df['title'].str.contains(search_word, na=False)]\n",
    "len_bsl_interim_gov = len(bsl_interim_gov)\n",
    "print(f\"bsl_interim_gov: {len_bsl_interim_gov}\")\n",
    "# print(bsl_awami_gov.head()['title'])"
   ]
  },
  {
   "cell_type": "code",
   "execution_count": 39,
   "metadata": {},
   "outputs": [
    {
     "name": "stdout",
     "output_type": "stream",
     "text": [
      "bnp_awami_gov: 689\n",
      "jcd_awami_gov: 43\n"
     ]
    }
   ],
   "source": [
    "include_words = ['বিএনপি', 'খালেদা জিয়া', 'মির্জা ফখরুল', 'তারেক রহমান']\n",
    "include_pattern = '|'.join(include_words)\n",
    "bnp_awami_gov = awami_gov_df[\n",
    "  awami_gov_df['title'].str.contains(include_pattern, na=False)\n",
    "]\n",
    "len_bnp_awami_gov = len(bnp_awami_gov)\n",
    "print(f\"bnp_awami_gov: {len_bnp_awami_gov}\")\n",
    "# print(bnp_awami_gov.head()['title'])\n",
    "\n",
    "search_word = 'ছাত্রদল'\n",
    "jcd_awami_gov = awami_gov_df[awami_gov_df['title'].str.contains(search_word, na=False)]\n",
    "len_jcd_awami_gov = len(jcd_awami_gov)\n",
    "print(f\"jcd_awami_gov: {len_jcd_awami_gov}\")\n",
    "# print(jcd_awami_gov.head()['title'])"
   ]
  },
  {
   "cell_type": "code",
   "execution_count": 40,
   "metadata": {},
   "outputs": [
    {
     "name": "stdout",
     "output_type": "stream",
     "text": [
      "bnp_interim_gov: 582\n",
      "jcd_interim_gov: 83\n"
     ]
    }
   ],
   "source": [
    "include_words = ['বিএনপি', 'খালেদা জিয়া', 'মির্জা ফখরুল', 'তারেক রহমান']\n",
    "include_pattern = '|'.join(include_words)\n",
    "bnp_interim_gov = interim_gov_df[\n",
    "  interim_gov_df['title'].str.contains(include_pattern, na=False)\n",
    "]\n",
    "len_bnp_interim_gov = len(bnp_interim_gov)\n",
    "print(f\"bnp_interim_gov: {len_bnp_interim_gov}\")\n",
    "# print(bnp_interim_gov.head()['title'])\n",
    "\n",
    "search_word = 'ছাত্রদল'\n",
    "jcd_interim_gov = interim_gov_df[interim_gov_df['title'].str.contains(search_word, na=False)]\n",
    "len_jcd_interim_gov = len(jcd_interim_gov)\n",
    "print(f\"jcd_interim_gov: {len_jcd_interim_gov}\")\n",
    "# print(jcd_interim_gov.head()['title'])"
   ]
  },
  {
   "cell_type": "code",
   "execution_count": 41,
   "metadata": {},
   "outputs": [
    {
     "name": "stdout",
     "output_type": "stream",
     "text": [
      "ji_awami_gov: 107\n",
      "shibir_awami_gov: 70\n"
     ]
    }
   ],
   "source": [
    "include_words = ['জামাত', 'জামায়াত']\n",
    "include_pattern = '|'.join(include_words)\n",
    "ji_awami_gov = awami_gov_df[\n",
    "  awami_gov_df['title'].str.contains(include_pattern, na=False)\n",
    "]\n",
    "len_ji_awami_gov = len(ji_awami_gov)\n",
    "print(f\"ji_awami_gov: {len_ji_awami_gov}\")\n",
    "# print(ji_awami_gov.head()['title'])\n",
    "\n",
    "include_words = ['শিবির']\n",
    "include_pattern = '|'.join(include_words)\n",
    "shibir_awami_gov = awami_gov_df[\n",
    "  awami_gov_df['title'].str.contains(include_pattern, na=False)\n",
    "]\n",
    "len_shibir_awami_gov = len(shibir_awami_gov)\n",
    "print(f\"shibir_awami_gov: {len_shibir_awami_gov}\")\n",
    "# print(shibir_awami_gov.head()['title'])"
   ]
  },
  {
   "cell_type": "code",
   "execution_count": 42,
   "metadata": {},
   "outputs": [
    {
     "name": "stdout",
     "output_type": "stream",
     "text": [
      "ji_interim_gov: 107\n",
      "shibir_interim_gov: 59\n"
     ]
    }
   ],
   "source": [
    "include_words = ['জামাত', 'জামায়াত']\n",
    "include_pattern = '|'.join(include_words)\n",
    "ji_interim_gov = interim_gov_df[\n",
    "  interim_gov_df['title'].str.contains(include_pattern, na=False)\n",
    "]\n",
    "len_ji_interim_gov = len(ji_interim_gov)\n",
    "print(f\"ji_interim_gov: {len_ji_interim_gov}\")\n",
    "# print(jai_interim_gov.head()['title'])\n",
    "\n",
    "include_words = ['শিবির']\n",
    "include_pattern = '|'.join(include_words)\n",
    "shibir_interim_gov = interim_gov_df[\n",
    "  interim_gov_df['title'].str.contains(include_pattern, na=False)\n",
    "]\n",
    "len_shibir_interim_gov = len(shibir_interim_gov)\n",
    "print(f\"shibir_interim_gov: {len_shibir_interim_gov}\")\n",
    "# print(shibir_interim_gov.head()['title'])"
   ]
  },
  {
   "cell_type": "code",
   "execution_count": 43,
   "metadata": {},
   "outputs": [
    {
     "name": "stdout",
     "output_type": "stream",
     "text": [
      "jp_awami_gov: 41\n"
     ]
    }
   ],
   "source": [
    "include_words = ['জাতীয় পার্টি', r'(?<!\\w)জাপা(?!\\w)']\n",
    "include_pattern = '|'.join(include_words)\n",
    "jp_awami_gov = awami_gov_df[\n",
    "  awami_gov_df['title'].str.contains(include_pattern, na=False)\n",
    "]\n",
    "len_jp_awami_gov = len(jp_awami_gov)\n",
    "print(f\"jp_awami_gov: {len_jp_awami_gov}\")\n",
    "# print(jp_awami_gov.head()['title'])"
   ]
  },
  {
   "cell_type": "code",
   "execution_count": 44,
   "metadata": {},
   "outputs": [
    {
     "name": "stdout",
     "output_type": "stream",
     "text": [
      "jp_interim_gov: 35\n"
     ]
    }
   ],
   "source": [
    "include_words = ['জাতীয় পার্টি', r'(?<!\\w)জাপা(?!\\w)']\n",
    "include_pattern = '|'.join(include_words)\n",
    "jp_interim_gov = interim_gov_df[\n",
    "  interim_gov_df['title'].str.contains(include_pattern, na=False)\n",
    "]\n",
    "len_jp_interim_gov = len(jp_interim_gov)\n",
    "print(f\"jp_interim_gov: {len_jp_interim_gov}\")\n",
    "# print(jp_interim_gov.head()['title'])"
   ]
  },
  {
   "cell_type": "code",
   "execution_count": 45,
   "metadata": {},
   "outputs": [
    {
     "name": "stdout",
     "output_type": "stream",
     "text": [
      "ig_interim_gov: 354\n"
     ]
    }
   ],
   "source": [
    "include_words = ['অন্তর্বর্তী সরকার', 'অন্তর্বর্তীকালীন সরকার', 'ড. ইউনূস', 'প্রধান উপদেষ্টা', 'নাহিদ ইসলাম', 'আসিফ মাহমুদ']\n",
    "\n",
    "# Create regex patterns from the lists\n",
    "include_pattern = '|'.join(include_words)\n",
    "exclude_pattern = '|'.join(exclude_words)\n",
    "\n",
    "# Apply the filter\n",
    "ig_interim_gov = interim_gov_df[\n",
    "  interim_gov_df['title'].str.contains(include_pattern, na=False)\n",
    "]\n",
    "len_ig_interim_gov = len(ig_interim_gov)\n",
    "print(f\"ig_interim_gov: {len_ig_interim_gov}\")"
   ]
  },
  {
   "cell_type": "code",
   "execution_count": 46,
   "metadata": {},
   "outputs": [
    {
     "name": "stdout",
     "output_type": "stream",
     "text": [
      "309.2\n",
      "241.1\n",
      "134.2\n",
      "41\n"
     ]
    }
   ],
   "source": [
    "print(.3 *len_al_awami_gov + .2 * len_bsl_awami_gov)\n",
    "print(.3 *len_bnp_awami_gov + .8 * len_jcd_awami_gov)\n",
    "print(.6 *len_ji_awami_gov + len_shibir_awami_gov)\n",
    "print(len_jp_awami_gov)"
   ]
  },
  {
   "cell_type": "code",
   "execution_count": 47,
   "metadata": {},
   "outputs": [
    {
     "name": "stdout",
     "output_type": "stream",
     "text": [
      "344.9\n",
      "357.4\n",
      "90.0\n",
      "35\n",
      "283.2\n"
     ]
    }
   ],
   "source": [
    "print(.5 *len_al_interim_gov + .3 * len_bsl_interim_gov)\n",
    "print(.5 *len_bnp_interim_gov + .8 * len_jcd_interim_gov)\n",
    "print(.4 *len_ji_interim_gov + .8 * len_shibir_interim_gov)\n",
    "print(len_jp_interim_gov)\n",
    "print(.8 * len_ig_interim_gov)"
   ]
  },
  {
   "cell_type": "code",
   "execution_count": 48,
   "metadata": {},
   "outputs": [],
   "source": [
    "form_df = pd.DataFrame()"
   ]
  },
  {
   "cell_type": "code",
   "execution_count": 49,
   "metadata": {},
   "outputs": [
    {
     "name": "stdout",
     "output_type": "stream",
     "text": [
      "233\n"
     ]
    }
   ],
   "source": [
    "sample_al_awami_gov = al_awami_gov[['date_published', 'url', 'title']].sample(frac=.3, random_state=42)\n",
    "print(len(sample_al_awami_gov))\n",
    "# print(sample_al_awami_gov.head())\n",
    "form_df = pd.concat([form_df, sample_al_awami_gov])"
   ]
  },
  {
   "cell_type": "code",
   "execution_count": 50,
   "metadata": {},
   "outputs": [
    {
     "name": "stdout",
     "output_type": "stream",
     "text": [
      "370\n"
     ]
    }
   ],
   "source": [
    "sample_al_interim_gov = al_interim_gov[['date_published', 'url', 'title']].sample(frac=.6, random_state=42)\n",
    "print(len(sample_al_interim_gov))\n",
    "# print(sample_al_interim_gov.head())\n",
    "form_df = pd.concat([form_df, sample_al_interim_gov])"
   ]
  },
  {
   "cell_type": "code",
   "execution_count": 51,
   "metadata": {},
   "outputs": [
    {
     "name": "stdout",
     "output_type": "stream",
     "text": [
      "152\n"
     ]
    }
   ],
   "source": [
    "sample_bsl_awami_gov = bsl_awami_gov[['date_published', 'url', 'title']].sample(frac=.4, random_state=42)\n",
    "print(len(sample_bsl_awami_gov))\n",
    "# print(sample_bsl_awami_gov.head())\n",
    "form_df = pd.concat([form_df, sample_bsl_awami_gov])"
   ]
  },
  {
   "cell_type": "code",
   "execution_count": 52,
   "metadata": {},
   "outputs": [
    {
     "name": "stdout",
     "output_type": "stream",
     "text": [
      "49\n"
     ]
    }
   ],
   "source": [
    "sample_bsl_interim_gov = bsl_interim_gov[['date_published', 'url', 'title']].sample(frac=.4, random_state=42)\n",
    "print(len(sample_bsl_interim_gov))\n",
    "# print(sample_bsl_interim_gov.head())\n",
    "form_df = pd.concat([form_df, sample_bsl_interim_gov])"
   ]
  },
  {
   "cell_type": "code",
   "execution_count": 53,
   "metadata": {},
   "outputs": [
    {
     "name": "stdout",
     "output_type": "stream",
     "text": [
      "276\n"
     ]
    }
   ],
   "source": [
    "sample_bnp_awami_gov = bnp_awami_gov[['date_published', 'url', 'title']].sample(frac=.4, random_state=42)\n",
    "print(len(sample_bnp_awami_gov))\n",
    "# print(sample_bnp_awami_gov.head())\n",
    "form_df = pd.concat([form_df, sample_bnp_awami_gov])"
   ]
  },
  {
   "cell_type": "code",
   "execution_count": 54,
   "metadata": {},
   "outputs": [
    {
     "name": "stdout",
     "output_type": "stream",
     "text": [
      "349\n"
     ]
    }
   ],
   "source": [
    "sample_bnp_interim_gov = bnp_interim_gov[['date_published', 'url', 'title']].sample(frac=.6, random_state=42)\n",
    "print(len(sample_bnp_interim_gov))\n",
    "# print(sample_bnp_interim_gov.head())\n",
    "form_df = pd.concat([form_df, sample_bnp_interim_gov])"
   ]
  },
  {
   "cell_type": "code",
   "execution_count": 55,
   "metadata": {},
   "outputs": [
    {
     "name": "stdout",
     "output_type": "stream",
     "text": [
      "26\n"
     ]
    }
   ],
   "source": [
    "sample_jcd_awami_gov = jcd_awami_gov[['date_published', 'url', 'title']].sample(frac=.6, random_state=42)\n",
    "print(len(sample_jcd_awami_gov))\n",
    "# print(sample_jcd_awami_gov.head())\n",
    "form_df = pd.concat([form_df, sample_jcd_awami_gov])"
   ]
  },
  {
   "cell_type": "code",
   "execution_count": 56,
   "metadata": {},
   "outputs": [
    {
     "name": "stdout",
     "output_type": "stream",
     "text": [
      "50\n"
     ]
    }
   ],
   "source": [
    "sample_jcd_interim_gov = jcd_interim_gov[['date_published', 'url', 'title']].sample(frac=.6, random_state=42)\n",
    "print(len(sample_jcd_interim_gov))\n",
    "# print(sample_jcd_interim_gov.head())\n",
    "form_df = pd.concat([form_df, sample_jcd_interim_gov])"
   ]
  },
  {
   "cell_type": "code",
   "execution_count": 57,
   "metadata": {},
   "outputs": [
    {
     "name": "stdout",
     "output_type": "stream",
     "text": [
      "86\n"
     ]
    }
   ],
   "source": [
    "sample_ji_awami_gov = ji_awami_gov[['date_published', 'url', 'title']].sample(frac=.8, random_state=42)\n",
    "print(len(sample_ji_awami_gov))\n",
    "# print(sample_ji_awami_gov.head())\n",
    "form_df = pd.concat([form_df, sample_ji_awami_gov])"
   ]
  },
  {
   "cell_type": "code",
   "execution_count": 58,
   "metadata": {},
   "outputs": [
    {
     "name": "stdout",
     "output_type": "stream",
     "text": [
      "86\n"
     ]
    }
   ],
   "source": [
    "sample_ji_interim_gov = ji_interim_gov[['date_published', 'url', 'title']].sample(frac=.8, random_state=42)\n",
    "print(len(sample_ji_interim_gov))\n",
    "# print(sample_ji_interim_gov.head())\n",
    "form_df = pd.concat([form_df, sample_ji_interim_gov])"
   ]
  },
  {
   "cell_type": "code",
   "execution_count": 59,
   "metadata": {},
   "outputs": [
    {
     "name": "stdout",
     "output_type": "stream",
     "text": [
      "41\n"
     ]
    }
   ],
   "source": [
    "sample_jp_awami_gov = jp_awami_gov[['date_published', 'url', 'title']]\n",
    "print(len(sample_jp_awami_gov))\n",
    "# print(sample_jp_awami_gov.head())\n",
    "form_df = pd.concat([form_df, sample_jp_awami_gov])"
   ]
  },
  {
   "cell_type": "code",
   "execution_count": 60,
   "metadata": {},
   "outputs": [
    {
     "name": "stdout",
     "output_type": "stream",
     "text": [
      "35\n"
     ]
    }
   ],
   "source": [
    "sample_jp_interim_gov = jp_interim_gov[['date_published', 'url', 'title']]\n",
    "print(len(sample_jp_interim_gov))\n",
    "# print(sample_jp_interim_gov.head())\n",
    "form_df = pd.concat([form_df, sample_jp_interim_gov])"
   ]
  },
  {
   "cell_type": "code",
   "execution_count": 61,
   "metadata": {},
   "outputs": [
    {
     "name": "stdout",
     "output_type": "stream",
     "text": [
      "283\n"
     ]
    }
   ],
   "source": [
    "sample_ig_interim_gov = ig_interim_gov[['date_published', 'url', 'title']].sample(frac=.8, random_state=42)\n",
    "print(len(sample_ig_interim_gov))\n",
    "# print(sample_ig_interim_gov.head())\n",
    "form_df = pd.concat([form_df, sample_ig_interim_gov])"
   ]
  },
  {
   "cell_type": "code",
   "execution_count": 62,
   "metadata": {},
   "outputs": [],
   "source": [
    "form_df['sample_type'] = 'headline'\n",
    "form_df['newspaper'] = 'prothom_alo'\n",
    "form_df['sentiment'] = ''"
   ]
  },
  {
   "cell_type": "code",
   "execution_count": 63,
   "metadata": {},
   "outputs": [
    {
     "name": "stdout",
     "output_type": "stream",
     "text": [
      "2036\n"
     ]
    },
    {
     "data": {
      "text/html": [
       "<div>\n",
       "<style scoped>\n",
       "    .dataframe tbody tr th:only-of-type {\n",
       "        vertical-align: middle;\n",
       "    }\n",
       "\n",
       "    .dataframe tbody tr th {\n",
       "        vertical-align: top;\n",
       "    }\n",
       "\n",
       "    .dataframe thead th {\n",
       "        text-align: right;\n",
       "    }\n",
       "</style>\n",
       "<table border=\"1\" class=\"dataframe\">\n",
       "  <thead>\n",
       "    <tr style=\"text-align: right;\">\n",
       "      <th></th>\n",
       "      <th>date_published</th>\n",
       "      <th>url</th>\n",
       "      <th>title</th>\n",
       "      <th>sample_type</th>\n",
       "      <th>newspaper</th>\n",
       "      <th>sentiment</th>\n",
       "    </tr>\n",
       "  </thead>\n",
       "  <tbody>\n",
       "    <tr>\n",
       "      <th>36492</th>\n",
       "      <td>2024-06-16 18:13:20</td>\n",
       "      <td>https://www.prothomalo.com/politics/e5tc3bxkma</td>\n",
       "      <td>মিয়ানমারের সঙ্গে গায়ে পড়ে যুদ্ধ বাধানোর ইচ্ছা ...</td>\n",
       "      <td>headline</td>\n",
       "      <td>prothom_alo</td>\n",
       "      <td></td>\n",
       "    </tr>\n",
       "    <tr>\n",
       "      <th>35943</th>\n",
       "      <td>2024-06-13 23:45:10</td>\n",
       "      <td>https://www.prothomalo.com/bangladesh/qbn6uzf2qz</td>\n",
       "      <td>প্রধানমন্ত্রী শেখ হাসিনা এবার\\nদ্বিপক্ষীয় সফরে...</td>\n",
       "      <td>headline</td>\n",
       "      <td>prothom_alo</td>\n",
       "      <td></td>\n",
       "    </tr>\n",
       "    <tr>\n",
       "      <th>33144</th>\n",
       "      <td>2024-06-02 18:07:55</td>\n",
       "      <td>https://www.prothomalo.com/politics/rrlne6snmk</td>\n",
       "      <td>বিতর্কিতদের নিয়ে প্রশ্ন উঠছে আওয়ামী লীগে</td>\n",
       "      <td>headline</td>\n",
       "      <td>prothom_alo</td>\n",
       "      <td></td>\n",
       "    </tr>\n",
       "    <tr>\n",
       "      <th>38148</th>\n",
       "      <td>2024-06-25 00:57:56</td>\n",
       "      <td>https://www.prothomalo.com/bangladesh/capital/...</td>\n",
       "      <td>আওয়ামী লীগের ৭৫তম প্রতিষ্ঠাবার্ষিকীতে হাতিরঝিল...</td>\n",
       "      <td>headline</td>\n",
       "      <td>prothom_alo</td>\n",
       "      <td></td>\n",
       "    </tr>\n",
       "    <tr>\n",
       "      <th>29791</th>\n",
       "      <td>2024-05-19 09:45:00</td>\n",
       "      <td>https://www.prothomalo.com/bangladesh/district...</td>\n",
       "      <td>ঝালকাঠিতে উপজেলা নির্বাচন নিয়ে বিভক্ত আওয়ামী লীগ</td>\n",
       "      <td>headline</td>\n",
       "      <td>prothom_alo</td>\n",
       "      <td></td>\n",
       "    </tr>\n",
       "  </tbody>\n",
       "</table>\n",
       "</div>"
      ],
      "text/plain": [
       "            date_published                                                url  \\\n",
       "36492  2024-06-16 18:13:20     https://www.prothomalo.com/politics/e5tc3bxkma   \n",
       "35943  2024-06-13 23:45:10   https://www.prothomalo.com/bangladesh/qbn6uzf2qz   \n",
       "33144  2024-06-02 18:07:55     https://www.prothomalo.com/politics/rrlne6snmk   \n",
       "38148  2024-06-25 00:57:56  https://www.prothomalo.com/bangladesh/capital/...   \n",
       "29791  2024-05-19 09:45:00  https://www.prothomalo.com/bangladesh/district...   \n",
       "\n",
       "                                                   title sample_type  \\\n",
       "36492  মিয়ানমারের সঙ্গে গায়ে পড়ে যুদ্ধ বাধানোর ইচ্ছা ...    headline   \n",
       "35943  প্রধানমন্ত্রী শেখ হাসিনা এবার\\nদ্বিপক্ষীয় সফরে...    headline   \n",
       "33144           বিতর্কিতদের নিয়ে প্রশ্ন উঠছে আওয়ামী লীগে    headline   \n",
       "38148  আওয়ামী লীগের ৭৫তম প্রতিষ্ঠাবার্ষিকীতে হাতিরঝিল...    headline   \n",
       "29791   ঝালকাঠিতে উপজেলা নির্বাচন নিয়ে বিভক্ত আওয়ামী লীগ    headline   \n",
       "\n",
       "         newspaper sentiment  \n",
       "36492  prothom_alo            \n",
       "35943  prothom_alo            \n",
       "33144  prothom_alo            \n",
       "38148  prothom_alo            \n",
       "29791  prothom_alo            "
      ]
     },
     "execution_count": 63,
     "metadata": {},
     "output_type": "execute_result"
    }
   ],
   "source": [
    "print(len(form_df))\n",
    "form_df.head()"
   ]
  },
  {
   "cell_type": "code",
   "execution_count": 65,
   "metadata": {},
   "outputs": [],
   "source": [
    "form_df.to_excel('prothom_alo_sample.xlsx', index=False)"
   ]
  }
 ],
 "metadata": {
  "kernelspec": {
   "display_name": "Python 3",
   "language": "python",
   "name": "python3"
  },
  "language_info": {
   "codemirror_mode": {
    "name": "ipython",
    "version": 3
   },
   "file_extension": ".py",
   "mimetype": "text/x-python",
   "name": "python",
   "nbconvert_exporter": "python",
   "pygments_lexer": "ipython3",
   "version": "3.11.4"
  }
 },
 "nbformat": 4,
 "nbformat_minor": 2
}
