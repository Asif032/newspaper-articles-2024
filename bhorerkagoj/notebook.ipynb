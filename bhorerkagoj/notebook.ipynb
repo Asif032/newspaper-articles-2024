{
 "cells": [
  {
   "cell_type": "code",
   "execution_count": 1,
   "metadata": {},
   "outputs": [],
   "source": [
    "import pandas as pd"
   ]
  },
  {
   "cell_type": "code",
   "execution_count": 2,
   "metadata": {},
   "outputs": [
    {
     "name": "stdout",
     "output_type": "stream",
     "text": [
      "<class 'pandas.core.frame.DataFrame'>\n",
      "RangeIndex: 48247 entries, 0 to 48246\n",
      "Data columns (total 8 columns):\n",
      " #   Column          Non-Null Count  Dtype \n",
      "---  ------          --------------  ----- \n",
      " 0   date_published  48247 non-null  object\n",
      " 1   date_modified   48247 non-null  object\n",
      " 2   author          48247 non-null  object\n",
      " 3   category        48247 non-null  object\n",
      " 4   tag             48247 non-null  object\n",
      " 5   title           48247 non-null  object\n",
      " 6   url             48247 non-null  object\n",
      " 7   content         48247 non-null  object\n",
      "dtypes: object(8)\n",
      "memory usage: 2.9+ MB\n"
     ]
    }
   ],
   "source": [
    "df = pd.read_json('samakal_news_articles.jsonl', lines=True)\n",
    "df.info()"
   ]
  },
  {
   "cell_type": "code",
   "execution_count": 3,
   "metadata": {},
   "outputs": [
    {
     "data": {
      "text/plain": [
       "48247"
      ]
     },
     "execution_count": 3,
     "metadata": {},
     "output_type": "execute_result"
    }
   ],
   "source": [
    "df['url'].nunique()"
   ]
  },
  {
   "cell_type": "code",
   "execution_count": 4,
   "metadata": {},
   "outputs": [],
   "source": [
    "awami_gov = df[df['date_published'] <= '2024-08-04']\n",
    "interim_gov = df[df['date_published'] >= '2024-08-08']"
   ]
  },
  {
   "cell_type": "code",
   "execution_count": 5,
   "metadata": {},
   "outputs": [
    {
     "name": "stdout",
     "output_type": "stream",
     "text": [
      "party: বিএনপি, number of headlines: 571\n"
     ]
    }
   ],
   "source": [
    "party = 'বিএনপি'\n",
    "headlines = awami_gov['title'].str.contains(party).sum()\n",
    "print(f\"party: {party}, number of headlines: {headlines}\")"
   ]
  },
  {
   "cell_type": "code",
   "execution_count": 6,
   "metadata": {},
   "outputs": [
    {
     "name": "stdout",
     "output_type": "stream",
     "text": [
      "party: বিএনপি, number of headlines: 388\n"
     ]
    }
   ],
   "source": [
    "party = 'বিএনপি'\n",
    "headlines = interim_gov['title'].str.contains(party).sum()\n",
    "print(f\"party: {party}, number of headlines: {headlines}\")"
   ]
  },
  {
   "cell_type": "code",
   "execution_count": 7,
   "metadata": {},
   "outputs": [
    {
     "name": "stdout",
     "output_type": "stream",
     "text": [
      "parties: ['আওয়ামী', 'সরকার'], number of headlines: 695\n"
     ]
    }
   ],
   "source": [
    "parties = ['আওয়ামী', 'সরকার']\n",
    "headlines = awami_gov['title'].apply(lambda x: any(party in x for party in parties)).sum()\n",
    "print(f\"parties: {parties}, number of headlines: {headlines}\")\n"
   ]
  },
  {
   "cell_type": "code",
   "execution_count": 8,
   "metadata": {},
   "outputs": [
    {
     "name": "stdout",
     "output_type": "stream",
     "text": [
      "party: আওয়ামী, number of headlines: 70\n"
     ]
    }
   ],
   "source": [
    "party = 'আওয়ামী'\n",
    "headlines = interim_gov['title'].str.contains(party).sum()\n",
    "print(f\"party: {party}, number of headlines: {headlines}\")"
   ]
  },
  {
   "cell_type": "code",
   "execution_count": 9,
   "metadata": {},
   "outputs": [
    {
     "name": "stdout",
     "output_type": "stream",
     "text": [
      "party: জামাত, number of headlines: 47\n"
     ]
    }
   ],
   "source": [
    "party = 'জামাত'\n",
    "headlines = df['title'].str.contains(party).sum()\n",
    "print(f\"party: {party}, number of headlines: {headlines}\")"
   ]
  },
  {
   "cell_type": "code",
   "execution_count": 10,
   "metadata": {},
   "outputs": [
    {
     "name": "stdout",
     "output_type": "stream",
     "text": [
      "party: পূর্ববর্তী, number of headlines: 1\n"
     ]
    }
   ],
   "source": [
    "party = 'পূর্ববর্তী'\n",
    "headlines = df['title'].str.contains(party).sum()\n",
    "print(f\"party: {party}, number of headlines: {headlines}\")"
   ]
  },
  {
   "cell_type": "code",
   "execution_count": 11,
   "metadata": {},
   "outputs": [
    {
     "name": "stdout",
     "output_type": "stream",
     "text": [
      "0    2024-01-01T23:53:49\n",
      "1    2024-01-01T23:58:08\n",
      "2    2024-01-01T23:46:18\n",
      "3    2024-01-01T00:00:00\n",
      "4    2024-01-01T23:48:56\n",
      "5    2024-01-01T23:47:35\n",
      "6    2024-01-01T23:55:09\n",
      "7    2024-01-01T23:42:45\n",
      "8    2024-01-01T23:39:12\n",
      "9    2024-01-01T23:52:44\n",
      "Name: date_published, dtype: object\n"
     ]
    }
   ],
   "source": [
    "date_published = df['date_published']\n",
    "print(date_published[:10])"
   ]
  },
  {
   "cell_type": "code",
   "execution_count": 12,
   "metadata": {},
   "outputs": [],
   "source": [
    "df['date_published'] = pd.to_datetime(df['date_published'])\n",
    "df['date_modified'] = pd.to_datetime(df['date_modified'])\n",
    "df.to_csv('samakal_news_articles.csv')"
   ]
  },
  {
   "cell_type": "code",
   "execution_count": 13,
   "metadata": {},
   "outputs": [
    {
     "name": "stdout",
     "output_type": "stream",
     "text": [
      "<class 'pandas.core.frame.DataFrame'>\n",
      "RangeIndex: 48247 entries, 0 to 48246\n",
      "Data columns (total 8 columns):\n",
      " #   Column          Non-Null Count  Dtype         \n",
      "---  ------          --------------  -----         \n",
      " 0   date_published  48247 non-null  datetime64[ns]\n",
      " 1   date_modified   48247 non-null  datetime64[ns]\n",
      " 2   author          48247 non-null  object        \n",
      " 3   category        48247 non-null  object        \n",
      " 4   tag             48247 non-null  object        \n",
      " 5   title           48247 non-null  object        \n",
      " 6   url             48247 non-null  object        \n",
      " 7   content         48247 non-null  object        \n",
      "dtypes: datetime64[ns](2), object(6)\n",
      "memory usage: 2.9+ MB\n"
     ]
    }
   ],
   "source": [
    "df.info()"
   ]
  }
 ],
 "metadata": {
  "kernelspec": {
   "display_name": "Python 3",
   "language": "python",
   "name": "python3"
  },
  "language_info": {
   "codemirror_mode": {
    "name": "ipython",
    "version": 3
   },
   "file_extension": ".py",
   "mimetype": "text/x-python",
   "name": "python",
   "nbconvert_exporter": "python",
   "pygments_lexer": "ipython3",
   "version": "3.11.4"
  }
 },
 "nbformat": 4,
 "nbformat_minor": 2
}
