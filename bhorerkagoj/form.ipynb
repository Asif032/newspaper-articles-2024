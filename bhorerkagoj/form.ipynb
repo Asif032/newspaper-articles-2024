{
 "cells": [
  {
   "cell_type": "code",
   "execution_count": 166,
   "metadata": {},
   "outputs": [],
   "source": [
    "import pandas as pd"
   ]
  },
  {
   "cell_type": "code",
   "execution_count": 167,
   "metadata": {},
   "outputs": [],
   "source": [
    "df = pd.read_csv('samakal_news_articles.csv')"
   ]
  },
  {
   "cell_type": "code",
   "execution_count": 168,
   "metadata": {},
   "outputs": [
    {
     "name": "stdout",
     "output_type": "stream",
     "text": [
      "<class 'pandas.core.frame.DataFrame'>\n",
      "RangeIndex: 48247 entries, 0 to 48246\n",
      "Data columns (total 9 columns):\n",
      " #   Column          Non-Null Count  Dtype \n",
      "---  ------          --------------  ----- \n",
      " 0   Unnamed: 0      48247 non-null  int64 \n",
      " 1   date_published  48247 non-null  object\n",
      " 2   date_modified   48247 non-null  object\n",
      " 3   author          48247 non-null  object\n",
      " 4   category        48247 non-null  object\n",
      " 5   tag             48247 non-null  object\n",
      " 6   title           48246 non-null  object\n",
      " 7   url             48247 non-null  object\n",
      " 8   content         48232 non-null  object\n",
      "dtypes: int64(1), object(8)\n",
      "memory usage: 3.3+ MB\n"
     ]
    }
   ],
   "source": [
    "df.info()"
   ]
  },
  {
   "cell_type": "code",
   "execution_count": 169,
   "metadata": {},
   "outputs": [],
   "source": [
    "awami_gov_df = df[df['date_published'] <= '2024-08-04']\n",
    "interim_gov_df = df[df['date_published'] >= '2024-08-08']"
   ]
  },
  {
   "cell_type": "code",
   "execution_count": 170,
   "metadata": {},
   "outputs": [
    {
     "name": "stdout",
     "output_type": "stream",
     "text": [
      "al_awami_gov: 666\n",
      "bsl_awami_gov: 259\n"
     ]
    }
   ],
   "source": [
    "include_words = ['আওয়ামী', \"আ'লীগ\", 'আ.লীগ', 'শেখ হাসিনা', 'ওবায়দুল কাদের']\n",
    "exclude_words = ['সরকারি']\n",
    "\n",
    "# Create regex patterns from the lists\n",
    "include_pattern = '|'.join(include_words)\n",
    "exclude_pattern = '|'.join(exclude_words)\n",
    "\n",
    "# Apply the filter\n",
    "al_awami_gov = awami_gov_df[\n",
    "  awami_gov_df['title'].str.contains(include_pattern, na=False) &\n",
    "  ~awami_gov_df['title'].str.contains(exclude_pattern, na=False)\n",
    "]\n",
    "len_al_awami_gov = len(al_awami_gov)\n",
    "print(f\"al_awami_gov: {len_al_awami_gov}\")\n",
    "# print(al_awami_gov.head()['title'])\n",
    "\n",
    "search_word = 'ছাত্রলীগ'\n",
    "bsl_awami_gov = awami_gov_df[awami_gov_df['title'].str.contains(search_word, na=False)]\n",
    "len_bsl_awami_gov = len(bsl_awami_gov)\n",
    "print(f\"bsl_awami_gov: {len_bsl_awami_gov}\")\n",
    "# print(bsl_awami_gov.head()['title'])"
   ]
  },
  {
   "cell_type": "code",
   "execution_count": 171,
   "metadata": {},
   "outputs": [
    {
     "name": "stdout",
     "output_type": "stream",
     "text": [
      "al_interim_gov: 400\n",
      "bsl_interim_gov: 111\n"
     ]
    }
   ],
   "source": [
    "include_words = ['আওয়ামী', \"আ'লীগ\", 'আ.লীগ', 'শেখ হাসিনা', 'ওবায়দুল কাদের']\n",
    "\n",
    "# Create regex patterns from the lists\n",
    "include_pattern = '|'.join(include_words)\n",
    "\n",
    "# Apply the filter\n",
    "al_interim_gov = interim_gov_df[\n",
    "  interim_gov_df['title'].str.contains(include_pattern, na=False)\n",
    "]\n",
    "len_al_interim_gov = len(al_interim_gov)\n",
    "print(f\"al_interim_gov: {len_al_interim_gov}\")\n",
    "# print(al_interim_gov.head()['title'])\n",
    "\n",
    "search_word = 'ছাত্রলীগ'\n",
    "bsl_interim_gov = interim_gov_df[interim_gov_df['title'].str.contains(search_word, na=False)]\n",
    "len_bsl_interim_gov = len(bsl_interim_gov)\n",
    "print(f\"bsl_interim_gov: {len_bsl_interim_gov}\")\n",
    "# print(bsl_awami_gov.head()['title'])"
   ]
  },
  {
   "cell_type": "code",
   "execution_count": 172,
   "metadata": {},
   "outputs": [
    {
     "name": "stdout",
     "output_type": "stream",
     "text": [
      "bnp_awami_gov: 708\n",
      "jcd_awami_gov: 50\n"
     ]
    }
   ],
   "source": [
    "include_words = ['বিএনপি', 'খালেদা জিয়া', 'মির্জা ফখরুল', 'তারেক রহমান']\n",
    "include_pattern = '|'.join(include_words)\n",
    "bnp_awami_gov = awami_gov_df[\n",
    "  awami_gov_df['title'].str.contains(include_pattern, na=False)\n",
    "]\n",
    "len_bnp_awami_gov = len(bnp_awami_gov)\n",
    "print(f\"bnp_awami_gov: {len_bnp_awami_gov}\")\n",
    "# print(bnp_awami_gov.head()['title'])\n",
    "\n",
    "search_word = 'ছাত্রদল'\n",
    "jcd_awami_gov = awami_gov_df[awami_gov_df['title'].str.contains(search_word, na=False)]\n",
    "len_jcd_awami_gov = len(jcd_awami_gov)\n",
    "print(f\"jcd_awami_gov: {len_jcd_awami_gov}\")\n",
    "# print(jcd_awami_gov.head()['title'])"
   ]
  },
  {
   "cell_type": "code",
   "execution_count": 173,
   "metadata": {},
   "outputs": [
    {
     "name": "stdout",
     "output_type": "stream",
     "text": [
      "bnp_interim_gov: 493\n",
      "jcd_interim_gov: 60\n"
     ]
    }
   ],
   "source": [
    "include_words = ['বিএনপি', 'খালেদা জিয়া', 'মির্জা ফখরুল', 'তারেক রহমান']\n",
    "include_pattern = '|'.join(include_words)\n",
    "bnp_interim_gov = interim_gov_df[\n",
    "  interim_gov_df['title'].str.contains(include_pattern, na=False)\n",
    "]\n",
    "len_bnp_interim_gov = len(bnp_interim_gov)\n",
    "print(f\"bnp_interim_gov: {len_bnp_interim_gov}\")\n",
    "# print(bnp_interim_gov.head()['title'])\n",
    "\n",
    "search_word = 'ছাত্রদল'\n",
    "jcd_interim_gov = interim_gov_df[interim_gov_df['title'].str.contains(search_word, na=False)]\n",
    "len_jcd_interim_gov = len(jcd_interim_gov)\n",
    "print(f\"jcd_interim_gov: {len_jcd_interim_gov}\")\n",
    "# print(jcd_interim_gov.head()['title'])"
   ]
  },
  {
   "cell_type": "code",
   "execution_count": 174,
   "metadata": {},
   "outputs": [
    {
     "name": "stdout",
     "output_type": "stream",
     "text": [
      "ji_awami_gov: 124\n",
      "shibir_awami_gov: 34\n"
     ]
    }
   ],
   "source": [
    "include_words = ['জামাত', 'জামায়াত']\n",
    "include_pattern = '|'.join(include_words)\n",
    "ji_awami_gov = awami_gov_df[\n",
    "  awami_gov_df['title'].str.contains(include_pattern, na=False)\n",
    "]\n",
    "len_ji_awami_gov = len(ji_awami_gov)\n",
    "print(f\"ji_awami_gov: {len_ji_awami_gov}\")\n",
    "# print(ji_awami_gov.head()['title'])\n",
    "\n",
    "include_words = ['শিবির']\n",
    "include_pattern = '|'.join(include_words)\n",
    "shibir_awami_gov = awami_gov_df[\n",
    "  awami_gov_df['title'].str.contains(include_pattern, na=False)\n",
    "]\n",
    "len_shibir_awami_gov = len(shibir_awami_gov)\n",
    "print(f\"shibir_awami_gov: {len_shibir_awami_gov}\")\n",
    "# print(shibir_awami_gov.head()['title'])"
   ]
  },
  {
   "cell_type": "code",
   "execution_count": 175,
   "metadata": {},
   "outputs": [
    {
     "name": "stdout",
     "output_type": "stream",
     "text": [
      "ji_interim_gov: 67\n",
      "shibir_interim_gov: 22\n"
     ]
    }
   ],
   "source": [
    "include_words = ['জামাত', 'জামায়াত']\n",
    "include_pattern = '|'.join(include_words)\n",
    "ji_interim_gov = interim_gov_df[\n",
    "  interim_gov_df['title'].str.contains(include_pattern, na=False)\n",
    "]\n",
    "len_ji_interim_gov = len(ji_interim_gov)\n",
    "print(f\"ji_interim_gov: {len_ji_interim_gov}\")\n",
    "# print(jai_interim_gov.head()['title'])\n",
    "\n",
    "include_words = ['শিবির']\n",
    "include_pattern = '|'.join(include_words)\n",
    "shibir_interim_gov = interim_gov_df[\n",
    "  interim_gov_df['title'].str.contains(include_pattern, na=False)\n",
    "]\n",
    "len_shibir_interim_gov = len(shibir_interim_gov)\n",
    "print(f\"shibir_interim_gov: {len_shibir_interim_gov}\")\n",
    "# print(shibir_interim_gov.head()['title'])"
   ]
  },
  {
   "cell_type": "code",
   "execution_count": 176,
   "metadata": {},
   "outputs": [
    {
     "name": "stdout",
     "output_type": "stream",
     "text": [
      "jp_awami_gov: 38\n"
     ]
    }
   ],
   "source": [
    "include_words = ['জাতীয় পার্টি', r'(?<!\\w)জাপা(?!\\w)']\n",
    "include_pattern = '|'.join(include_words)\n",
    "jp_awami_gov = awami_gov_df[\n",
    "  awami_gov_df['title'].str.contains(include_pattern, na=False)\n",
    "]\n",
    "len_jp_awami_gov = len(jp_awami_gov)\n",
    "print(f\"jp_awami_gov: {len_jp_awami_gov}\")\n",
    "# print(jp_awami_gov.head()['title'])"
   ]
  },
  {
   "cell_type": "code",
   "execution_count": 177,
   "metadata": {},
   "outputs": [
    {
     "name": "stdout",
     "output_type": "stream",
     "text": [
      "jp_interim_gov: 23\n"
     ]
    }
   ],
   "source": [
    "include_words = ['জাতীয় পার্টি', r'(?<!\\w)জাপা(?!\\w)']\n",
    "include_pattern = '|'.join(include_words)\n",
    "jp_interim_gov = interim_gov_df[\n",
    "  interim_gov_df['title'].str.contains(include_pattern, na=False)\n",
    "]\n",
    "len_jp_interim_gov = len(jp_interim_gov)\n",
    "print(f\"jp_interim_gov: {len_jp_interim_gov}\")\n",
    "# print(jp_interim_gov.head()['title'])"
   ]
  },
  {
   "cell_type": "code",
   "execution_count": 178,
   "metadata": {},
   "outputs": [
    {
     "name": "stdout",
     "output_type": "stream",
     "text": [
      "ig_interim_gov: 287\n"
     ]
    }
   ],
   "source": [
    "include_words = ['অন্তর্বর্তী সরকার', 'অন্তর্বর্তীকালীন সরকার', 'ড. ইউনূস', 'প্রধান উপদেষ্টা']\n",
    "\n",
    "# Create regex patterns from the lists\n",
    "include_pattern = '|'.join(include_words)\n",
    "exclude_pattern = '|'.join(exclude_words)\n",
    "\n",
    "# Apply the filter\n",
    "ig_interim_gov = interim_gov_df[\n",
    "  interim_gov_df['title'].str.contains(include_pattern, na=False)\n",
    "]\n",
    "len_ig_interim_gov = len(ig_interim_gov)\n",
    "print(f\"ig_interim_gov: {len_ig_interim_gov}\")"
   ]
  },
  {
   "cell_type": "code",
   "execution_count": 179,
   "metadata": {},
   "outputs": [
    {
     "name": "stdout",
     "output_type": "stream",
     "text": [
      "251.6\n",
      "252.4\n",
      "108.39999999999999\n",
      "38\n"
     ]
    }
   ],
   "source": [
    "print(.3 *len_al_awami_gov + .2 * len_bsl_awami_gov)\n",
    "print(.3 *len_bnp_awami_gov + .8 * len_jcd_awami_gov)\n",
    "print(.6 *len_ji_awami_gov + len_shibir_awami_gov)\n",
    "print(len_jp_awami_gov)"
   ]
  },
  {
   "cell_type": "code",
   "execution_count": 180,
   "metadata": {},
   "outputs": [
    {
     "name": "stdout",
     "output_type": "stream",
     "text": [
      "233.3\n",
      "294.5\n",
      "44.400000000000006\n",
      "23\n",
      "229.60000000000002\n"
     ]
    }
   ],
   "source": [
    "print(.5 *len_al_interim_gov + .3 * len_bsl_interim_gov)\n",
    "print(.5 *len_bnp_interim_gov + .8 * len_jcd_interim_gov)\n",
    "print(.4 *len_ji_interim_gov + .8 * len_shibir_interim_gov)\n",
    "print(len_jp_interim_gov)\n",
    "print(.8 * len_ig_interim_gov)"
   ]
  },
  {
   "cell_type": "code",
   "execution_count": 181,
   "metadata": {},
   "outputs": [],
   "source": [
    "form_df = pd.DataFrame()"
   ]
  },
  {
   "cell_type": "code",
   "execution_count": 182,
   "metadata": {},
   "outputs": [
    {
     "name": "stdout",
     "output_type": "stream",
     "text": [
      "200\n"
     ]
    }
   ],
   "source": [
    "sample_al_awami_gov = al_awami_gov[['date_published', 'url', 'title']].sample(frac=.3, random_state=42)\n",
    "print(len(sample_al_awami_gov))\n",
    "# print(sample_al_awami_gov.head())\n",
    "form_df = pd.concat([form_df, sample_al_awami_gov])"
   ]
  },
  {
   "cell_type": "code",
   "execution_count": 183,
   "metadata": {},
   "outputs": [
    {
     "name": "stdout",
     "output_type": "stream",
     "text": [
      "200\n"
     ]
    }
   ],
   "source": [
    "sample_al_interim_gov = al_interim_gov[['date_published', 'url', 'title']].sample(frac=.5, random_state=42)\n",
    "print(len(sample_al_interim_gov))\n",
    "# print(sample_al_interim_gov.head())\n",
    "form_df = pd.concat([form_df, sample_al_interim_gov])"
   ]
  },
  {
   "cell_type": "code",
   "execution_count": 184,
   "metadata": {},
   "outputs": [
    {
     "name": "stdout",
     "output_type": "stream",
     "text": [
      "78\n"
     ]
    }
   ],
   "source": [
    "sample_bsl_awami_gov = bsl_awami_gov[['date_published', 'url', 'title']].sample(frac=.3, random_state=42)\n",
    "print(len(sample_bsl_awami_gov))\n",
    "# print(sample_bsl_awami_gov.head())\n",
    "form_df = pd.concat([form_df, sample_bsl_awami_gov])"
   ]
  },
  {
   "cell_type": "code",
   "execution_count": 185,
   "metadata": {},
   "outputs": [
    {
     "name": "stdout",
     "output_type": "stream",
     "text": [
      "44\n"
     ]
    }
   ],
   "source": [
    "sample_bsl_interim_gov = bsl_interim_gov[['date_published', 'url', 'title']].sample(frac=.4, random_state=42)\n",
    "print(len(sample_bsl_interim_gov))\n",
    "# print(sample_bsl_interim_gov.head())\n",
    "form_df = pd.concat([form_df, sample_bsl_interim_gov])"
   ]
  },
  {
   "cell_type": "code",
   "execution_count": 186,
   "metadata": {},
   "outputs": [
    {
     "name": "stdout",
     "output_type": "stream",
     "text": [
      "212\n"
     ]
    }
   ],
   "source": [
    "sample_bnp_awami_gov = bnp_awami_gov[['date_published', 'url', 'title']].sample(frac=.3, random_state=42)\n",
    "print(len(sample_bnp_awami_gov))\n",
    "# print(sample_bnp_awami_gov.head())\n",
    "form_df = pd.concat([form_df, sample_bnp_awami_gov])"
   ]
  },
  {
   "cell_type": "code",
   "execution_count": 187,
   "metadata": {},
   "outputs": [
    {
     "name": "stdout",
     "output_type": "stream",
     "text": [
      "246\n"
     ]
    }
   ],
   "source": [
    "sample_bnp_interim_gov = bnp_interim_gov[['date_published', 'url', 'title']].sample(frac=.5, random_state=42)\n",
    "print(len(sample_bnp_interim_gov))\n",
    "# print(sample_bnp_interim_gov.head())\n",
    "form_df = pd.concat([form_df, sample_bnp_interim_gov])"
   ]
  },
  {
   "cell_type": "code",
   "execution_count": 188,
   "metadata": {},
   "outputs": [
    {
     "name": "stdout",
     "output_type": "stream",
     "text": [
      "30\n"
     ]
    }
   ],
   "source": [
    "sample_jcd_awami_gov = jcd_awami_gov[['date_published', 'url', 'title']].sample(frac=.6, random_state=42)\n",
    "print(len(sample_jcd_awami_gov))\n",
    "# print(sample_jcd_awami_gov.head())\n",
    "form_df = pd.concat([form_df, sample_jcd_awami_gov])"
   ]
  },
  {
   "cell_type": "code",
   "execution_count": 189,
   "metadata": {},
   "outputs": [
    {
     "name": "stdout",
     "output_type": "stream",
     "text": [
      "36\n"
     ]
    }
   ],
   "source": [
    "sample_jcd_interim_gov = jcd_interim_gov[['date_published', 'url', 'title']].sample(frac=.6, random_state=42)\n",
    "print(len(sample_jcd_interim_gov))\n",
    "# print(sample_jcd_interim_gov.head())\n",
    "form_df = pd.concat([form_df, sample_jcd_interim_gov])"
   ]
  },
  {
   "cell_type": "code",
   "execution_count": 190,
   "metadata": {},
   "outputs": [
    {
     "name": "stdout",
     "output_type": "stream",
     "text": [
      "99\n"
     ]
    }
   ],
   "source": [
    "sample_ji_awami_gov = ji_awami_gov[['date_published', 'url', 'title']].sample(frac=.8, random_state=42)\n",
    "print(len(sample_ji_awami_gov))\n",
    "# print(sample_ji_awami_gov.head())\n",
    "form_df = pd.concat([form_df, sample_ji_awami_gov])"
   ]
  },
  {
   "cell_type": "code",
   "execution_count": 191,
   "metadata": {},
   "outputs": [
    {
     "name": "stdout",
     "output_type": "stream",
     "text": [
      "54\n"
     ]
    }
   ],
   "source": [
    "sample_ji_interim_gov = ji_interim_gov[['date_published', 'url', 'title']].sample(frac=.8, random_state=42)\n",
    "print(len(sample_ji_interim_gov))\n",
    "# print(sample_ji_interim_gov.head())\n",
    "form_df = pd.concat([form_df, sample_ji_interim_gov])"
   ]
  },
  {
   "cell_type": "code",
   "execution_count": 192,
   "metadata": {},
   "outputs": [
    {
     "name": "stdout",
     "output_type": "stream",
     "text": [
      "38\n"
     ]
    }
   ],
   "source": [
    "sample_jp_awami_gov = jp_awami_gov[['date_published', 'url', 'title']]\n",
    "print(len(sample_jp_awami_gov))\n",
    "# print(sample_jp_awami_gov.head())\n",
    "form_df = pd.concat([form_df, sample_jp_awami_gov])"
   ]
  },
  {
   "cell_type": "code",
   "execution_count": 193,
   "metadata": {},
   "outputs": [
    {
     "name": "stdout",
     "output_type": "stream",
     "text": [
      "23\n"
     ]
    }
   ],
   "source": [
    "sample_jp_interim_gov = jp_interim_gov[['date_published', 'url', 'title']]\n",
    "print(len(sample_jp_interim_gov))\n",
    "# print(sample_jp_interim_gov.head())\n",
    "form_df = pd.concat([form_df, sample_jp_interim_gov])"
   ]
  },
  {
   "cell_type": "code",
   "execution_count": 194,
   "metadata": {},
   "outputs": [
    {
     "name": "stdout",
     "output_type": "stream",
     "text": [
      "230\n"
     ]
    }
   ],
   "source": [
    "sample_ig_interim_gov = ig_interim_gov[['date_published', 'url', 'title']].sample(frac=.8, random_state=42)\n",
    "print(len(sample_ig_interim_gov))\n",
    "# print(sample_ig_interim_gov.head())\n",
    "form_df = pd.concat([form_df, sample_ig_interim_gov])"
   ]
  },
  {
   "cell_type": "code",
   "execution_count": 195,
   "metadata": {},
   "outputs": [],
   "source": [
    "form_df['sample_type'] = 'headline'\n",
    "form_df['sentiment'] = ''"
   ]
  },
  {
   "cell_type": "code",
   "execution_count": 197,
   "metadata": {},
   "outputs": [
    {
     "name": "stdout",
     "output_type": "stream",
     "text": [
      "1490\n"
     ]
    },
    {
     "data": {
      "text/html": [
       "<div>\n",
       "<style scoped>\n",
       "    .dataframe tbody tr th:only-of-type {\n",
       "        vertical-align: middle;\n",
       "    }\n",
       "\n",
       "    .dataframe tbody tr th {\n",
       "        vertical-align: top;\n",
       "    }\n",
       "\n",
       "    .dataframe thead th {\n",
       "        text-align: right;\n",
       "    }\n",
       "</style>\n",
       "<table border=\"1\" class=\"dataframe\">\n",
       "  <thead>\n",
       "    <tr style=\"text-align: right;\">\n",
       "      <th></th>\n",
       "      <th>date_published</th>\n",
       "      <th>url</th>\n",
       "      <th>title</th>\n",
       "      <th>sample_type</th>\n",
       "      <th>sentiment</th>\n",
       "    </tr>\n",
       "  </thead>\n",
       "  <tbody>\n",
       "    <tr>\n",
       "      <th>29230</th>\n",
       "      <td>2024-07-08 21:39:03</td>\n",
       "      <td>https://samakal.com/whole-country/article/245643</td>\n",
       "      <td>শেরপুরে আওয়ামী লীগ নেতার দখলে থাকা জমি উদ্ধার</td>\n",
       "      <td>headline</td>\n",
       "      <td></td>\n",
       "    </tr>\n",
       "    <tr>\n",
       "      <th>5430</th>\n",
       "      <td>2024-02-05 15:19:53</td>\n",
       "      <td>https://samakal.com/politics/article/221445</td>\n",
       "      <td>দলের সবাই ভালো মানুষ এমন দাবি করতে পারি না: ওব...</td>\n",
       "      <td>headline</td>\n",
       "      <td></td>\n",
       "    </tr>\n",
       "    <tr>\n",
       "      <th>30652</th>\n",
       "      <td>2024-07-16 08:07:30</td>\n",
       "      <td>https://samakal.com/whole-country/article/246869</td>\n",
       "      <td>গৃহবধূকে ধর্ষণচেষ্টায় আ’লীগ নেতা জেলে</td>\n",
       "      <td>headline</td>\n",
       "      <td></td>\n",
       "    </tr>\n",
       "    <tr>\n",
       "      <th>8943</th>\n",
       "      <td>2024-02-27 05:24:04</td>\n",
       "      <td>https://samakal.com/whole-country/article/224882</td>\n",
       "      <td>কেউ সুদ নিয়েও নোবেল পাচ্ছেন আর শেখ হাসিনার ওপর...</td>\n",
       "      <td>headline</td>\n",
       "      <td></td>\n",
       "    </tr>\n",
       "    <tr>\n",
       "      <th>24209</th>\n",
       "      <td>2024-06-03 00:26:51</td>\n",
       "      <td>https://samakal.com/whole-country/article/240302</td>\n",
       "      <td>ভোটার উপস্থিতি কমানোর আহ্বান আ’লীগ প্রার্থীর</td>\n",
       "      <td>headline</td>\n",
       "      <td></td>\n",
       "    </tr>\n",
       "  </tbody>\n",
       "</table>\n",
       "</div>"
      ],
      "text/plain": [
       "            date_published                                               url  \\\n",
       "29230  2024-07-08 21:39:03  https://samakal.com/whole-country/article/245643   \n",
       "5430   2024-02-05 15:19:53       https://samakal.com/politics/article/221445   \n",
       "30652  2024-07-16 08:07:30  https://samakal.com/whole-country/article/246869   \n",
       "8943   2024-02-27 05:24:04  https://samakal.com/whole-country/article/224882   \n",
       "24209  2024-06-03 00:26:51  https://samakal.com/whole-country/article/240302   \n",
       "\n",
       "                                                   title sample_type sentiment  \n",
       "29230      শেরপুরে আওয়ামী লীগ নেতার দখলে থাকা জমি উদ্ধার    headline            \n",
       "5430   দলের সবাই ভালো মানুষ এমন দাবি করতে পারি না: ওব...    headline            \n",
       "30652              গৃহবধূকে ধর্ষণচেষ্টায় আ’লীগ নেতা জেলে    headline            \n",
       "8943   কেউ সুদ নিয়েও নোবেল পাচ্ছেন আর শেখ হাসিনার ওপর...    headline            \n",
       "24209       ভোটার উপস্থিতি কমানোর আহ্বান আ’লীগ প্রার্থীর    headline            "
      ]
     },
     "execution_count": 197,
     "metadata": {},
     "output_type": "execute_result"
    }
   ],
   "source": [
    "print(len(form_df))\n",
    "form_df.head()"
   ]
  },
  {
   "cell_type": "code",
   "execution_count": 199,
   "metadata": {},
   "outputs": [],
   "source": [
    "form_df.to_excel('samakal.xlsx', index=False)"
   ]
  }
 ],
 "metadata": {
  "kernelspec": {
   "display_name": "Python 3",
   "language": "python",
   "name": "python3"
  },
  "language_info": {
   "codemirror_mode": {
    "name": "ipython",
    "version": 3
   },
   "file_extension": ".py",
   "mimetype": "text/x-python",
   "name": "python",
   "nbconvert_exporter": "python",
   "pygments_lexer": "ipython3",
   "version": "3.11.4"
  }
 },
 "nbformat": 4,
 "nbformat_minor": 2
}
