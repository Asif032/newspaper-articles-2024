{
 "cells": [
  {
   "cell_type": "code",
   "execution_count": 24,
   "metadata": {},
   "outputs": [],
   "source": [
    "import pandas as pd\n",
    "import torch\n",
    "from torch.utils.data import DataLoader, TensorDataset\n",
    "from transformers import AutoModelForSequenceClassification, AutoTokenizer\n",
    "from sklearn.metrics import accuracy_score, classification_report"
   ]
  },
  {
   "cell_type": "markdown",
   "metadata": {},
   "source": [
    "### 1.Load pre-trained BanglaBERT and Tokenizer"
   ]
  },
  {
   "cell_type": "code",
   "execution_count": 25,
   "metadata": {},
   "outputs": [
    {
     "name": "stderr",
     "output_type": "stream",
     "text": [
      "Some weights of BertForSequenceClassification were not initialized from the model checkpoint at sagorsarker/bangla-bert-base and are newly initialized: ['classifier.bias', 'classifier.weight']\n",
      "You should probably TRAIN this model on a down-stream task to be able to use it for predictions and inference.\n"
     ]
    }
   ],
   "source": [
    "model = AutoModelForSequenceClassification.from_pretrained(\"sagorsarker/bangla-bert-base\", num_labels=2)\n",
    "tokenizer = AutoTokenizer.from_pretrained(\"sagorsarker/bangla-bert-base\")"
   ]
  },
  {
   "cell_type": "markdown",
   "metadata": {},
   "source": [
    "### 2. Load and Preprocess Dataset"
   ]
  },
  {
   "cell_type": "code",
   "execution_count": 26,
   "metadata": {},
   "outputs": [
    {
     "data": {
      "text/html": [
       "<div>\n",
       "<style scoped>\n",
       "    .dataframe tbody tr th:only-of-type {\n",
       "        vertical-align: middle;\n",
       "    }\n",
       "\n",
       "    .dataframe tbody tr th {\n",
       "        vertical-align: top;\n",
       "    }\n",
       "\n",
       "    .dataframe thead th {\n",
       "        text-align: right;\n",
       "    }\n",
       "</style>\n",
       "<table border=\"1\" class=\"dataframe\">\n",
       "  <thead>\n",
       "    <tr style=\"text-align: right;\">\n",
       "      <th></th>\n",
       "      <th>date_published</th>\n",
       "      <th>url</th>\n",
       "      <th>title</th>\n",
       "      <th>sample_type</th>\n",
       "      <th>newspaper</th>\n",
       "      <th>sentiment</th>\n",
       "    </tr>\n",
       "  </thead>\n",
       "  <tbody>\n",
       "    <tr>\n",
       "      <th>0</th>\n",
       "      <td>2024-06-16 18:13:20</td>\n",
       "      <td>https://www.prothomalo.com/politics/e5tc3bxkma</td>\n",
       "      <td>মিয়ানমারের সঙ্গে গায়ে পড়ে যুদ্ধ বাধানোর ইচ্ছা ...</td>\n",
       "      <td>headline</td>\n",
       "      <td>prothom_alo</td>\n",
       "      <td>1</td>\n",
       "    </tr>\n",
       "    <tr>\n",
       "      <th>1</th>\n",
       "      <td>2024-06-13 23:45:10</td>\n",
       "      <td>https://www.prothomalo.com/bangladesh/qbn6uzf2qz</td>\n",
       "      <td>প্রধানমন্ত্রী শেখ হাসিনা এবার\\r\\nদ্বিপক্ষীয় সফ...</td>\n",
       "      <td>headline</td>\n",
       "      <td>prothom_alo</td>\n",
       "      <td>1</td>\n",
       "    </tr>\n",
       "    <tr>\n",
       "      <th>2</th>\n",
       "      <td>2024-06-02 18:07:55</td>\n",
       "      <td>https://www.prothomalo.com/politics/rrlne6snmk</td>\n",
       "      <td>বিতর্কিতদের নিয়ে প্রশ্ন উঠছে আওয়ামী লীগে</td>\n",
       "      <td>headline</td>\n",
       "      <td>prothom_alo</td>\n",
       "      <td>0</td>\n",
       "    </tr>\n",
       "    <tr>\n",
       "      <th>3</th>\n",
       "      <td>2024-06-25 00:57:56</td>\n",
       "      <td>https://www.prothomalo.com/bangladesh/capital/...</td>\n",
       "      <td>আওয়ামী লীগের ৭৫তম প্রতিষ্ঠাবার্ষিকীতে হাতিরঝিল...</td>\n",
       "      <td>headline</td>\n",
       "      <td>prothom_alo</td>\n",
       "      <td>1</td>\n",
       "    </tr>\n",
       "    <tr>\n",
       "      <th>4</th>\n",
       "      <td>2024-05-19 09:45:00</td>\n",
       "      <td>https://www.prothomalo.com/bangladesh/district...</td>\n",
       "      <td>ঝালকাঠিতে উপজেলা নির্বাচন নিয়ে বিভক্ত আওয়ামী লীগ</td>\n",
       "      <td>headline</td>\n",
       "      <td>prothom_alo</td>\n",
       "      <td>0</td>\n",
       "    </tr>\n",
       "  </tbody>\n",
       "</table>\n",
       "</div>"
      ],
      "text/plain": [
       "        date_published                                                url  \\\n",
       "0  2024-06-16 18:13:20     https://www.prothomalo.com/politics/e5tc3bxkma   \n",
       "1  2024-06-13 23:45:10   https://www.prothomalo.com/bangladesh/qbn6uzf2qz   \n",
       "2  2024-06-02 18:07:55     https://www.prothomalo.com/politics/rrlne6snmk   \n",
       "3  2024-06-25 00:57:56  https://www.prothomalo.com/bangladesh/capital/...   \n",
       "4  2024-05-19 09:45:00  https://www.prothomalo.com/bangladesh/district...   \n",
       "\n",
       "                                               title sample_type    newspaper  \\\n",
       "0  মিয়ানমারের সঙ্গে গায়ে পড়ে যুদ্ধ বাধানোর ইচ্ছা ...    headline  prothom_alo   \n",
       "1  প্রধানমন্ত্রী শেখ হাসিনা এবার\\r\\nদ্বিপক্ষীয় সফ...    headline  prothom_alo   \n",
       "2           বিতর্কিতদের নিয়ে প্রশ্ন উঠছে আওয়ামী লীগে    headline  prothom_alo   \n",
       "3  আওয়ামী লীগের ৭৫তম প্রতিষ্ঠাবার্ষিকীতে হাতিরঝিল...    headline  prothom_alo   \n",
       "4   ঝালকাঠিতে উপজেলা নির্বাচন নিয়ে বিভক্ত আওয়ামী লীগ    headline  prothom_alo   \n",
       "\n",
       "   sentiment  \n",
       "0          1  \n",
       "1          1  \n",
       "2          0  \n",
       "3          1  \n",
       "4          0  "
      ]
     },
     "execution_count": 26,
     "metadata": {},
     "output_type": "execute_result"
    }
   ],
   "source": [
    "df = pd.read_csv(\"../training_data/labeled_data.csv\")\n",
    "df['sentiment'] = df['sentiment'].map({1: 1, -1: 0})\n",
    "df.head()"
   ]
  },
  {
   "cell_type": "code",
   "execution_count": 27,
   "metadata": {},
   "outputs": [
    {
     "data": {
      "text/html": [
       "<div>\n",
       "<style scoped>\n",
       "    .dataframe tbody tr th:only-of-type {\n",
       "        vertical-align: middle;\n",
       "    }\n",
       "\n",
       "    .dataframe tbody tr th {\n",
       "        vertical-align: top;\n",
       "    }\n",
       "\n",
       "    .dataframe thead th {\n",
       "        text-align: right;\n",
       "    }\n",
       "</style>\n",
       "<table border=\"1\" class=\"dataframe\">\n",
       "  <thead>\n",
       "    <tr style=\"text-align: right;\">\n",
       "      <th></th>\n",
       "      <th>date_published</th>\n",
       "      <th>url</th>\n",
       "      <th>title</th>\n",
       "      <th>sample_type</th>\n",
       "      <th>newspaper</th>\n",
       "      <th>sentiment</th>\n",
       "    </tr>\n",
       "  </thead>\n",
       "  <tbody>\n",
       "  </tbody>\n",
       "</table>\n",
       "</div>"
      ],
      "text/plain": [
       "Empty DataFrame\n",
       "Columns: [date_published, url, title, sample_type, newspaper, sentiment]\n",
       "Index: []"
      ]
     },
     "execution_count": 27,
     "metadata": {},
     "output_type": "execute_result"
    }
   ],
   "source": [
    "df[df['sentiment'].isna()]"
   ]
  },
  {
   "cell_type": "code",
   "execution_count": 28,
   "metadata": {},
   "outputs": [],
   "source": [
    "texts = df['title'].tolist()\n",
    "labels = df['sentiment'].tolist()"
   ]
  },
  {
   "cell_type": "markdown",
   "metadata": {},
   "source": [
    "### 3. Tokenize the headlines"
   ]
  },
  {
   "cell_type": "code",
   "execution_count": 29,
   "metadata": {},
   "outputs": [],
   "source": [
    "encodings = tokenizer(texts, truncation=True, padding=True, max_length=128)\n",
    "dataset = TensorDataset(\n",
    "  torch.tensor(encodings['input_ids']), \n",
    "  torch.tensor(encodings['attention_mask']), \n",
    "  torch.tensor(labels)\n",
    ")"
   ]
  },
  {
   "cell_type": "markdown",
   "metadata": {},
   "source": [
    "### 4. Create a DataLoader"
   ]
  },
  {
   "cell_type": "code",
   "execution_count": 30,
   "metadata": {},
   "outputs": [],
   "source": [
    "dataloader = DataLoader(dataset, batch_size=16)"
   ]
  },
  {
   "cell_type": "markdown",
   "metadata": {},
   "source": [
    "### 5. Evaluate the Model Without Fine Tuning"
   ]
  },
  {
   "cell_type": "code",
   "execution_count": 31,
   "metadata": {},
   "outputs": [],
   "source": [
    "model.eval()\n",
    "all_predictions, all_labels = [], []\n",
    "\n",
    "with torch.no_grad():\n",
    "  for batch in dataloader:\n",
    "    input_ids, attention_mask, labels = batch\n",
    "    outputs = model(input_ids=input_ids, attention_mask=attention_mask)\n",
    "    logits = outputs.logits\n",
    "    predictions = torch.argmax(logits, dim=-1)\n",
    "    all_predictions.extend(predictions.cpu().numpy())\n",
    "    all_labels.extend(labels.cpu().numpy())"
   ]
  },
  {
   "cell_type": "markdown",
   "metadata": {},
   "source": [
    "### 6. Calculate And Display Metrics"
   ]
  },
  {
   "cell_type": "code",
   "execution_count": 32,
   "metadata": {},
   "outputs": [
    {
     "name": "stdout",
     "output_type": "stream",
     "text": [
      "Accuracy without fine tuning: 52.00%\n"
     ]
    }
   ],
   "source": [
    "accuracy = accuracy_score(all_labels, all_predictions)\n",
    "print(f\"Accuracy without fine tuning: {accuracy * 100:.2f}%\")"
   ]
  },
  {
   "cell_type": "markdown",
   "metadata": {},
   "source": [
    "### 7. Detailed Classification Report"
   ]
  },
  {
   "cell_type": "code",
   "execution_count": 33,
   "metadata": {},
   "outputs": [
    {
     "name": "stdout",
     "output_type": "stream",
     "text": [
      "              precision    recall  f1-score   support\n",
      "\n",
      "    Negative       0.38      0.06      0.10      1549\n",
      "    Positive       0.53      0.92      0.67      1801\n",
      "\n",
      "    accuracy                           0.52      3350\n",
      "   macro avg       0.45      0.49      0.39      3350\n",
      "weighted avg       0.46      0.52      0.41      3350\n",
      "\n"
     ]
    }
   ],
   "source": [
    "print(classification_report(all_labels, all_predictions, target_names=['Negative', 'Positive']))"
   ]
  },
  {
   "cell_type": "markdown",
   "metadata": {},
   "source": [
    "## Train the model"
   ]
  },
  {
   "cell_type": "code",
   "execution_count": 34,
   "metadata": {},
   "outputs": [],
   "source": [
    "from sklearn.model_selection import train_test_split\n",
    "from transformers import AutoTokenizer\n",
    "import torch\n",
    "import accelerate"
   ]
  },
  {
   "cell_type": "markdown",
   "metadata": {},
   "source": [
    "### 1. Split into Train and Validation Sets"
   ]
  },
  {
   "cell_type": "code",
   "execution_count": 35,
   "metadata": {},
   "outputs": [],
   "source": [
    "\n",
    "train_texts, val_texts, train_labels, val_labels = train_test_split(\n",
    "    df['title'].tolist(), df['sentiment'].tolist(), test_size=0.1, random_state=42\n",
    ")"
   ]
  },
  {
   "cell_type": "markdown",
   "metadata": {},
   "source": [
    "### 2. Tokenize"
   ]
  },
  {
   "cell_type": "code",
   "execution_count": 36,
   "metadata": {},
   "outputs": [],
   "source": [
    "\n",
    "tokenizer = AutoTokenizer.from_pretrained(\"sagorsarker/bangla-bert-base\")\n",
    "\n",
    "train_encodings = tokenizer(train_texts, truncation=True, padding=True, max_length=128)\n",
    "val_encodings = tokenizer(val_texts, truncation=True, padding=True, max_length=128)"
   ]
  },
  {
   "cell_type": "markdown",
   "metadata": {},
   "source": [
    "### 3. Prepare Data for PyTorch"
   ]
  },
  {
   "cell_type": "code",
   "execution_count": 37,
   "metadata": {},
   "outputs": [],
   "source": [
    "class SentimentDataset(torch.utils.data.Dataset):\n",
    "  def __init__(self, encodings, labels):\n",
    "    self.encodings = encodings\n",
    "    self.labels = labels\n",
    "\n",
    "  def __len__(self):\n",
    "    return len(self.labels)\n",
    "\n",
    "  def __getitem__(self, idx):\n",
    "    item = {key: torch.tensor(val[idx]) for key, val in self.encodings.items()}\n",
    "    item['labels'] = torch.tensor(self.labels[idx])\n",
    "    return item\n",
    "\n",
    "train_dataset = SentimentDataset(train_encodings, train_labels)\n",
    "val_dataset = SentimentDataset(val_encodings, val_labels)"
   ]
  },
  {
   "cell_type": "markdown",
   "metadata": {},
   "source": [
    "### 4. Define a compute_metrics Function for Evaluation"
   ]
  },
  {
   "cell_type": "code",
   "execution_count": 38,
   "metadata": {},
   "outputs": [],
   "source": [
    "\n",
    "def compute_metrics(pred):\n",
    "    predictions = torch.argmax(torch.tensor(pred.predictions), dim=-1).numpy()\n",
    "    labels = pred.label_ids\n",
    "    report = classification_report(labels, predictions, target_names=[\"Negative\", \"Positive\"], output_dict=True)\n",
    "    \n",
    "    accuracy = report['accuracy']\n",
    "    precision = report['macro avg']['precision']\n",
    "    recall = report['macro avg']['recall']\n",
    "    f1 = report['macro avg']['f1-score']\n",
    "    \n",
    "    return {\n",
    "      'accuracy': accuracy,\n",
    "      'precision': precision,\n",
    "      'recall': recall,\n",
    "      'f1': f1\n",
    "    }"
   ]
  },
  {
   "cell_type": "markdown",
   "metadata": {},
   "source": [
    "### 5. Fine-Tune the model"
   ]
  },
  {
   "cell_type": "code",
   "execution_count": null,
   "metadata": {},
   "outputs": [
    {
     "data": {
      "application/vnd.jupyter.widget-view+json": {
       "model_id": "75abcd4044db4497a65e768e8a23af78",
       "version_major": 2,
       "version_minor": 0
      },
      "text/plain": [
       "  0%|          | 0/1890 [00:00<?, ?it/s]"
      ]
     },
     "metadata": {},
     "output_type": "display_data"
    },
    {
     "name": "stdout",
     "output_type": "stream",
     "text": [
      "{'loss': 0.7047, 'grad_norm': 4.774619102478027, 'learning_rate': 1.2000000000000002e-06, 'epoch': 0.16}\n",
      "{'loss': 0.6654, 'grad_norm': 4.194238662719727, 'learning_rate': 2.4000000000000003e-06, 'epoch': 0.32}\n",
      "{'loss': 0.6162, 'grad_norm': 4.609460353851318, 'learning_rate': 3.6000000000000003e-06, 'epoch': 0.48}\n",
      "{'loss': 0.588, 'grad_norm': 5.373795032501221, 'learning_rate': 4.800000000000001e-06, 'epoch': 0.63}\n"
     ]
    }
   ],
   "source": [
    "from transformers import Trainer, TrainingArguments\n",
    "\n",
    "training_args = TrainingArguments(\n",
    "  learning_rate=2e-5,\n",
    "  max_grad_norm=1.0,\n",
    "  output_dir='./results',          \n",
    "  num_train_epochs=10,             \n",
    "  per_device_train_batch_size=16,  \n",
    "  per_device_eval_batch_size=16,  \n",
    "  warmup_steps=500,                \n",
    "  weight_decay=0.01,          \n",
    "  logging_dir='./logs',        \n",
    "  logging_steps=30,\n",
    "  eval_strategy=\"epoch\",    \n",
    "  save_strategy=\"epoch\",         \n",
    "  load_best_model_at_end=True,\n",
    "  disable_tqdm=False,\n",
    "  # report_to=\"none\",  # Disable W&B integration\n",
    ")\n",
    "\n",
    "trainer = Trainer(\n",
    "  model=model,                      \n",
    "  args=training_args,                 \n",
    "  train_dataset=train_dataset,        \n",
    "  eval_dataset=val_dataset,\n",
    "  compute_metrics=compute_metrics            \n",
    ")\n",
    "\n",
    "# Train the model\n",
    "trainer.train()"
   ]
  },
  {
   "cell_type": "markdown",
   "metadata": {},
   "source": [
    "### Evaluate the model"
   ]
  },
  {
   "cell_type": "code",
   "execution_count": null,
   "metadata": {},
   "outputs": [
    {
     "data": {
      "application/vnd.jupyter.widget-view+json": {
       "model_id": "ccbf8b999a9b46a78f018d1c1c5226c2",
       "version_major": 2,
       "version_minor": 0
      },
      "text/plain": [
       "  0%|          | 0/21 [00:00<?, ?it/s]"
      ]
     },
     "metadata": {},
     "output_type": "display_data"
    },
    {
     "data": {
      "text/plain": [
       "{'eval_loss': 0.3854467272758484,\n",
       " 'eval_accuracy': 0.817910447761194,\n",
       " 'eval_precision': 0.8181081081081081,\n",
       " 'eval_recall': 0.8158770485937165,\n",
       " 'eval_f1': 0.8166294272305525,\n",
       " 'eval_runtime': 19.2355,\n",
       " 'eval_samples_per_second': 17.416,\n",
       " 'eval_steps_per_second': 1.092,\n",
       " 'epoch': 3.0}"
      ]
     },
     "execution_count": 22,
     "metadata": {},
     "output_type": "execute_result"
    }
   ],
   "source": [
    "trainer.evaluate()"
   ]
  },
  {
   "cell_type": "markdown",
   "metadata": {},
   "source": [
    "### Save the Fine-Tuned Model"
   ]
  },
  {
   "cell_type": "code",
   "execution_count": null,
   "metadata": {},
   "outputs": [
    {
     "data": {
      "text/plain": [
       "('./fine_tuned_banglabert\\\\tokenizer_config.json',\n",
       " './fine_tuned_banglabert\\\\special_tokens_map.json',\n",
       " './fine_tuned_banglabert\\\\vocab.txt',\n",
       " './fine_tuned_banglabert\\\\added_tokens.json',\n",
       " './fine_tuned_banglabert\\\\tokenizer.json')"
      ]
     },
     "execution_count": 23,
     "metadata": {},
     "output_type": "execute_result"
    }
   ],
   "source": [
    "model.save_pretrained(\"./fine_tuned_banglabert\")\n",
    "tokenizer.save_pretrained(\"./fine_tuned_banglabert\")"
   ]
  }
 ],
 "metadata": {
  "kernelspec": {
   "display_name": "Python 3",
   "language": "python",
   "name": "python3"
  },
  "language_info": {
   "codemirror_mode": {
    "name": "ipython",
    "version": 3
   },
   "file_extension": ".py",
   "mimetype": "text/x-python",
   "name": "python",
   "nbconvert_exporter": "python",
   "pygments_lexer": "ipython3",
   "version": "3.11.4"
  }
 },
 "nbformat": 4,
 "nbformat_minor": 2
}
