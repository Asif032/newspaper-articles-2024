{
 "cells": [
  {
   "cell_type": "code",
   "execution_count": 1,
   "metadata": {},
   "outputs": [],
   "source": [
    "import pandas as pd\n",
    "import torch\n",
    "from torch.utils.data import DataLoader, TensorDataset\n",
    "from transformers import AutoModelForSequenceClassification, AutoTokenizer\n",
    "from sklearn.metrics import accuracy_score, classification_report"
   ]
  },
  {
   "cell_type": "markdown",
   "metadata": {},
   "source": [
    "### 1.Load pre-trained BanglaBERT and Tokenizer"
   ]
  },
  {
   "cell_type": "code",
   "execution_count": 2,
   "metadata": {},
   "outputs": [
    {
     "name": "stderr",
     "output_type": "stream",
     "text": [
      "Some weights of BertForSequenceClassification were not initialized from the model checkpoint at sagorsarker/bangla-bert-base and are newly initialized: ['classifier.bias', 'classifier.weight']\n",
      "You should probably TRAIN this model on a down-stream task to be able to use it for predictions and inference.\n"
     ]
    }
   ],
   "source": [
    "model = AutoModelForSequenceClassification.from_pretrained(\"sagorsarker/bangla-bert-base\", num_labels=2)\n",
    "tokenizer = AutoTokenizer.from_pretrained(\"sagorsarker/bangla-bert-base\")"
   ]
  },
  {
   "cell_type": "markdown",
   "metadata": {},
   "source": [
    "### 2. Load and Preprocess Dataset"
   ]
  },
  {
   "cell_type": "code",
   "execution_count": 3,
   "metadata": {},
   "outputs": [
    {
     "data": {
      "text/html": [
       "<div>\n",
       "<style scoped>\n",
       "    .dataframe tbody tr th:only-of-type {\n",
       "        vertical-align: middle;\n",
       "    }\n",
       "\n",
       "    .dataframe tbody tr th {\n",
       "        vertical-align: top;\n",
       "    }\n",
       "\n",
       "    .dataframe thead th {\n",
       "        text-align: right;\n",
       "    }\n",
       "</style>\n",
       "<table border=\"1\" class=\"dataframe\">\n",
       "  <thead>\n",
       "    <tr style=\"text-align: right;\">\n",
       "      <th></th>\n",
       "      <th>date_published</th>\n",
       "      <th>url</th>\n",
       "      <th>title</th>\n",
       "      <th>sample_type</th>\n",
       "      <th>newspaper</th>\n",
       "      <th>sentiment</th>\n",
       "    </tr>\n",
       "  </thead>\n",
       "  <tbody>\n",
       "    <tr>\n",
       "      <th>0</th>\n",
       "      <td>2024-06-16 18:13:20</td>\n",
       "      <td>https://www.prothomalo.com/politics/e5tc3bxkma</td>\n",
       "      <td>মিয়ানমারের সঙ্গে গায়ে পড়ে যুদ্ধ বাধানোর ইচ্ছা ...</td>\n",
       "      <td>headline</td>\n",
       "      <td>prothom_alo</td>\n",
       "      <td>1</td>\n",
       "    </tr>\n",
       "    <tr>\n",
       "      <th>1</th>\n",
       "      <td>2024-06-13 23:45:10</td>\n",
       "      <td>https://www.prothomalo.com/bangladesh/qbn6uzf2qz</td>\n",
       "      <td>প্রধানমন্ত্রী শেখ হাসিনা এবার\\nদ্বিপক্ষীয় সফরে...</td>\n",
       "      <td>headline</td>\n",
       "      <td>prothom_alo</td>\n",
       "      <td>1</td>\n",
       "    </tr>\n",
       "    <tr>\n",
       "      <th>2</th>\n",
       "      <td>2024-06-02 18:07:55</td>\n",
       "      <td>https://www.prothomalo.com/politics/rrlne6snmk</td>\n",
       "      <td>বিতর্কিতদের নিয়ে প্রশ্ন উঠছে আওয়ামী লীগে</td>\n",
       "      <td>headline</td>\n",
       "      <td>prothom_alo</td>\n",
       "      <td>0</td>\n",
       "    </tr>\n",
       "    <tr>\n",
       "      <th>3</th>\n",
       "      <td>2024-06-25 00:57:56</td>\n",
       "      <td>https://www.prothomalo.com/bangladesh/capital/...</td>\n",
       "      <td>আওয়ামী লীগের ৭৫তম প্রতিষ্ঠাবার্ষিকীতে হাতিরঝিল...</td>\n",
       "      <td>headline</td>\n",
       "      <td>prothom_alo</td>\n",
       "      <td>1</td>\n",
       "    </tr>\n",
       "    <tr>\n",
       "      <th>4</th>\n",
       "      <td>2024-05-19 09:45:00</td>\n",
       "      <td>https://www.prothomalo.com/bangladesh/district...</td>\n",
       "      <td>ঝালকাঠিতে উপজেলা নির্বাচন নিয়ে বিভক্ত আওয়ামী লীগ</td>\n",
       "      <td>headline</td>\n",
       "      <td>prothom_alo</td>\n",
       "      <td>0</td>\n",
       "    </tr>\n",
       "  </tbody>\n",
       "</table>\n",
       "</div>"
      ],
      "text/plain": [
       "        date_published                                                url  \\\n",
       "0  2024-06-16 18:13:20     https://www.prothomalo.com/politics/e5tc3bxkma   \n",
       "1  2024-06-13 23:45:10   https://www.prothomalo.com/bangladesh/qbn6uzf2qz   \n",
       "2  2024-06-02 18:07:55     https://www.prothomalo.com/politics/rrlne6snmk   \n",
       "3  2024-06-25 00:57:56  https://www.prothomalo.com/bangladesh/capital/...   \n",
       "4  2024-05-19 09:45:00  https://www.prothomalo.com/bangladesh/district...   \n",
       "\n",
       "                                               title sample_type    newspaper  \\\n",
       "0  মিয়ানমারের সঙ্গে গায়ে পড়ে যুদ্ধ বাধানোর ইচ্ছা ...    headline  prothom_alo   \n",
       "1  প্রধানমন্ত্রী শেখ হাসিনা এবার\\nদ্বিপক্ষীয় সফরে...    headline  prothom_alo   \n",
       "2           বিতর্কিতদের নিয়ে প্রশ্ন উঠছে আওয়ামী লীগে    headline  prothom_alo   \n",
       "3  আওয়ামী লীগের ৭৫তম প্রতিষ্ঠাবার্ষিকীতে হাতিরঝিল...    headline  prothom_alo   \n",
       "4   ঝালকাঠিতে উপজেলা নির্বাচন নিয়ে বিভক্ত আওয়ামী লীগ    headline  prothom_alo   \n",
       "\n",
       "   sentiment  \n",
       "0          1  \n",
       "1          1  \n",
       "2          0  \n",
       "3          1  \n",
       "4          0  "
      ]
     },
     "execution_count": 3,
     "metadata": {},
     "output_type": "execute_result"
    }
   ],
   "source": [
    "df = pd.read_csv(\"../training_data/labeled_data.csv\")\n",
    "df['sentiment'] = df['sentiment'].map({1: 1, -1: 0})\n",
    "df.head()"
   ]
  },
  {
   "cell_type": "code",
   "execution_count": 4,
   "metadata": {},
   "outputs": [
    {
     "data": {
      "text/html": [
       "<div>\n",
       "<style scoped>\n",
       "    .dataframe tbody tr th:only-of-type {\n",
       "        vertical-align: middle;\n",
       "    }\n",
       "\n",
       "    .dataframe tbody tr th {\n",
       "        vertical-align: top;\n",
       "    }\n",
       "\n",
       "    .dataframe thead th {\n",
       "        text-align: right;\n",
       "    }\n",
       "</style>\n",
       "<table border=\"1\" class=\"dataframe\">\n",
       "  <thead>\n",
       "    <tr style=\"text-align: right;\">\n",
       "      <th></th>\n",
       "      <th>date_published</th>\n",
       "      <th>url</th>\n",
       "      <th>title</th>\n",
       "      <th>sample_type</th>\n",
       "      <th>newspaper</th>\n",
       "      <th>sentiment</th>\n",
       "    </tr>\n",
       "  </thead>\n",
       "  <tbody>\n",
       "  </tbody>\n",
       "</table>\n",
       "</div>"
      ],
      "text/plain": [
       "Empty DataFrame\n",
       "Columns: [date_published, url, title, sample_type, newspaper, sentiment]\n",
       "Index: []"
      ]
     },
     "execution_count": 4,
     "metadata": {},
     "output_type": "execute_result"
    }
   ],
   "source": [
    "df[df['sentiment'].isna()]"
   ]
  },
  {
   "cell_type": "code",
   "execution_count": 5,
   "metadata": {},
   "outputs": [],
   "source": [
    "texts = df['title'].tolist()\n",
    "labels = df['sentiment'].tolist()"
   ]
  },
  {
   "cell_type": "markdown",
   "metadata": {},
   "source": [
    "### 3. Tokenize the headlines"
   ]
  },
  {
   "cell_type": "code",
   "execution_count": 6,
   "metadata": {},
   "outputs": [],
   "source": [
    "encodings = tokenizer(texts, truncation=True, padding=True, max_length=128)\n",
    "dataset = TensorDataset(\n",
    "  torch.tensor(encodings['input_ids']), \n",
    "  torch.tensor(encodings['attention_mask']), \n",
    "  torch.tensor(labels)\n",
    ")"
   ]
  },
  {
   "cell_type": "markdown",
   "metadata": {},
   "source": [
    "### 4. Create a DataLoader"
   ]
  },
  {
   "cell_type": "code",
   "execution_count": 7,
   "metadata": {},
   "outputs": [],
   "source": [
    "dataloader = DataLoader(dataset, batch_size=16)"
   ]
  },
  {
   "cell_type": "markdown",
   "metadata": {},
   "source": [
    "### 5. Evaluate the Model Without Fine Tuning"
   ]
  },
  {
   "cell_type": "code",
   "execution_count": 8,
   "metadata": {},
   "outputs": [
    {
     "name": "stderr",
     "output_type": "stream",
     "text": [
      "Evaluating: 100%|██████████| 285/285 [04:43<00:00,  1.01batch/s]\n"
     ]
    }
   ],
   "source": [
    "from tqdm import tqdm\n",
    "\n",
    "model.eval()\n",
    "all_predictions, all_labels = [], []\n",
    "\n",
    "with torch.no_grad():\n",
    "  for batch in tqdm(dataloader, desc=\"Evaluating\", unit=\"batch\"):\n",
    "    input_ids, attention_mask, labels = batch\n",
    "    outputs = model(input_ids=input_ids, attention_mask=attention_mask)\n",
    "    logits = outputs.logits\n",
    "    predictions = torch.argmax(logits, dim=-1)\n",
    "    all_predictions.extend(predictions.cpu().numpy())\n",
    "    all_labels.extend(labels.cpu().numpy())"
   ]
  },
  {
   "cell_type": "markdown",
   "metadata": {},
   "source": [
    "### 6. Calculate And Display Metrics"
   ]
  },
  {
   "cell_type": "code",
   "execution_count": 9,
   "metadata": {},
   "outputs": [
    {
     "name": "stdout",
     "output_type": "stream",
     "text": [
      "Accuracy without fine tuning: 53.90%\n"
     ]
    }
   ],
   "source": [
    "accuracy = accuracy_score(all_labels, all_predictions)\n",
    "print(f\"Accuracy without fine tuning: {accuracy * 100:.2f}%\")"
   ]
  },
  {
   "cell_type": "markdown",
   "metadata": {},
   "source": [
    "### 7. Detailed Classification Report"
   ]
  },
  {
   "cell_type": "code",
   "execution_count": 10,
   "metadata": {},
   "outputs": [
    {
     "name": "stdout",
     "output_type": "stream",
     "text": [
      "              precision    recall  f1-score   support\n",
      "\n",
      "    Negative       0.50      0.46      0.48      2118\n",
      "    Positive       0.56      0.61      0.59      2439\n",
      "\n",
      "    accuracy                           0.54      4557\n",
      "   macro avg       0.53      0.53      0.53      4557\n",
      "weighted avg       0.54      0.54      0.54      4557\n",
      "\n"
     ]
    }
   ],
   "source": [
    "print(classification_report(all_labels, all_predictions, target_names=['Negative', 'Positive']))"
   ]
  },
  {
   "cell_type": "markdown",
   "metadata": {},
   "source": [
    "## Train the model"
   ]
  },
  {
   "cell_type": "code",
   "execution_count": 11,
   "metadata": {},
   "outputs": [],
   "source": [
    "from sklearn.model_selection import train_test_split\n",
    "from transformers import AutoTokenizer\n",
    "import torch\n",
    "import accelerate"
   ]
  },
  {
   "cell_type": "markdown",
   "metadata": {},
   "source": [
    "### 1. Split into Train, Validation and Test Sets"
   ]
  },
  {
   "cell_type": "code",
   "execution_count": 12,
   "metadata": {},
   "outputs": [],
   "source": [
    "\n",
    "train_texts, temp_texts, train_labels, temp_labels = train_test_split(\n",
    "  df['title'].tolist(), df['sentiment'].tolist(), test_size=0.2, random_state=42\n",
    ")\n",
    "val_texts, test_texts, val_labels, test_labels = train_test_split(\n",
    "  temp_texts, temp_labels, test_size=0.5, random_state=42\n",
    ")"
   ]
  },
  {
   "cell_type": "markdown",
   "metadata": {},
   "source": [
    "### 2. Tokenize"
   ]
  },
  {
   "cell_type": "code",
   "execution_count": 13,
   "metadata": {},
   "outputs": [],
   "source": [
    "\n",
    "tokenizer = AutoTokenizer.from_pretrained(\"sagorsarker/bangla-bert-base\")\n",
    "\n",
    "train_encodings = tokenizer(train_texts, truncation=True, padding=True, max_length=512)\n",
    "val_encodings = tokenizer(val_texts, truncation=True, padding=True, max_length=512)\n",
    "test_encodings = tokenizer(test_texts, truncation=True, padding=True, max_length=512)"
   ]
  },
  {
   "cell_type": "markdown",
   "metadata": {},
   "source": [
    "### 3. Prepare Data for PyTorch"
   ]
  },
  {
   "cell_type": "code",
   "execution_count": 14,
   "metadata": {},
   "outputs": [],
   "source": [
    "class SentimentDataset(torch.utils.data.Dataset):\n",
    "  def __init__(self, encodings, labels):\n",
    "    self.encodings = encodings\n",
    "    self.labels = labels\n",
    "\n",
    "  def __len__(self):\n",
    "    return len(self.labels)\n",
    "\n",
    "  def __getitem__(self, idx):\n",
    "    item = {key: torch.tensor(val[idx]) for key, val in self.encodings.items()}\n",
    "    item['labels'] = torch.tensor(self.labels[idx])\n",
    "    return item\n",
    "\n",
    "train_dataset = SentimentDataset(train_encodings, train_labels)\n",
    "val_dataset = SentimentDataset(val_encodings, val_labels)\n",
    "test_dataset = SentimentDataset(test_encodings, test_labels)"
   ]
  },
  {
   "cell_type": "markdown",
   "metadata": {},
   "source": [
    "### 4. Define a compute_metrics Function for Evaluation"
   ]
  },
  {
   "cell_type": "code",
   "execution_count": 15,
   "metadata": {},
   "outputs": [],
   "source": [
    "\n",
    "def compute_metrics(pred):\n",
    "  predictions = torch.argmax(torch.tensor(pred.predictions), dim=-1).numpy()\n",
    "  labels = pred.label_ids\n",
    "  report = classification_report(labels, predictions, target_names=[\"Negative\", \"Positive\"], output_dict=True)\n",
    "  \n",
    "  accuracy = report['accuracy']\n",
    "  precision = report['macro avg']['precision']\n",
    "  recall = report['macro avg']['recall']\n",
    "  f1 = report['macro avg']['f1-score']\n",
    "  \n",
    "  return {\n",
    "    'accuracy': accuracy,\n",
    "    'precision': precision,\n",
    "    'recall': recall,\n",
    "    'f1': f1\n",
    "  }"
   ]
  },
  {
   "cell_type": "markdown",
   "metadata": {},
   "source": [
    "### 5. Fine-Tune the model"
   ]
  },
  {
   "cell_type": "code",
   "execution_count": 16,
   "metadata": {},
   "outputs": [
    {
     "name": "stdout",
     "output_type": "stream",
     "text": [
      "WARNING:tensorflow:From c:\\Python311\\Lib\\site-packages\\keras\\src\\losses.py:2976: The name tf.losses.sparse_softmax_cross_entropy is deprecated. Please use tf.compat.v1.losses.sparse_softmax_cross_entropy instead.\n",
      "\n"
     ]
    },
    {
     "data": {
      "application/vnd.jupyter.widget-view+json": {
       "model_id": "bcb28b229c4942e190368371d399ac4f",
       "version_major": 2,
       "version_minor": 0
      },
      "text/plain": [
       "  0%|          | 0/1140 [00:00<?, ?it/s]"
      ]
     },
     "metadata": {},
     "output_type": "display_data"
    },
    {
     "name": "stdout",
     "output_type": "stream",
     "text": [
      "{'loss': 0.6833, 'grad_norm': 5.325006008148193, 'learning_rate': 1.5e-06, 'epoch': 0.07}\n",
      "{'loss': 0.6787, 'grad_norm': 4.302872180938721, 'learning_rate': 3e-06, 'epoch': 0.13}\n",
      "{'loss': 0.6402, 'grad_norm': 5.738388538360596, 'learning_rate': 4.5e-06, 'epoch': 0.2}\n",
      "{'loss': 0.6138, 'grad_norm': 6.003082275390625, 'learning_rate': 6e-06, 'epoch': 0.26}\n",
      "{'loss': 0.5728, 'grad_norm': 8.131525993347168, 'learning_rate': 7.5e-06, 'epoch': 0.33}\n",
      "{'loss': 0.5144, 'grad_norm': 6.369797229766846, 'learning_rate': 9e-06, 'epoch': 0.39}\n",
      "{'loss': 0.4713, 'grad_norm': 12.196466445922852, 'learning_rate': 1.05e-05, 'epoch': 0.46}\n",
      "{'loss': 0.4718, 'grad_norm': 10.987630844116211, 'learning_rate': 1.2e-05, 'epoch': 0.53}\n",
      "{'loss': 0.5002, 'grad_norm': 9.614204406738281, 'learning_rate': 1.3500000000000001e-05, 'epoch': 0.59}\n",
      "{'loss': 0.4717, 'grad_norm': 13.784036636352539, 'learning_rate': 1.5e-05, 'epoch': 0.66}\n",
      "{'loss': 0.4879, 'grad_norm': 13.954841613769531, 'learning_rate': 1.65e-05, 'epoch': 0.72}\n",
      "{'loss': 0.4639, 'grad_norm': 12.207629203796387, 'learning_rate': 1.8e-05, 'epoch': 0.79}\n",
      "{'loss': 0.4338, 'grad_norm': 15.614831924438477, 'learning_rate': 1.9500000000000003e-05, 'epoch': 0.86}\n",
      "{'loss': 0.4436, 'grad_norm': 7.127107620239258, 'learning_rate': 2.1e-05, 'epoch': 0.92}\n",
      "{'loss': 0.4163, 'grad_norm': 5.202243804931641, 'learning_rate': 2.25e-05, 'epoch': 0.99}\n"
     ]
    },
    {
     "data": {
      "application/vnd.jupyter.widget-view+json": {
       "model_id": "4f88511ff35049848ff68c03cb2f0db9",
       "version_major": 2,
       "version_minor": 0
      },
      "text/plain": [
       "  0%|          | 0/29 [00:00<?, ?it/s]"
      ]
     },
     "metadata": {},
     "output_type": "display_data"
    },
    {
     "name": "stdout",
     "output_type": "stream",
     "text": [
      "{'eval_loss': 0.4131354093551636, 'eval_accuracy': 0.8135964912280702, 'eval_precision': 0.8168981481481481, 'eval_recall': 0.818724172050521, 'eval_f1': 0.813523850761348, 'eval_runtime': 18.6441, 'eval_samples_per_second': 24.458, 'eval_steps_per_second': 1.555, 'epoch': 1.0}\n",
      "{'loss': 0.3827, 'grad_norm': 7.845691680908203, 'learning_rate': 2.4e-05, 'epoch': 1.05}\n",
      "{'loss': 0.3437, 'grad_norm': 17.505434036254883, 'learning_rate': 2.5500000000000003e-05, 'epoch': 1.12}\n",
      "{'loss': 0.3942, 'grad_norm': 12.609180450439453, 'learning_rate': 2.7000000000000002e-05, 'epoch': 1.18}\n",
      "{'loss': 0.2978, 'grad_norm': 5.617586612701416, 'learning_rate': 2.8499999999999998e-05, 'epoch': 1.25}\n",
      "{'loss': 0.3513, 'grad_norm': 12.413505554199219, 'learning_rate': 3e-05, 'epoch': 1.32}\n",
      "{'loss': 0.2664, 'grad_norm': 10.763534545898438, 'learning_rate': 3.15e-05, 'epoch': 1.38}\n",
      "{'loss': 0.4123, 'grad_norm': 18.09748649597168, 'learning_rate': 3.3e-05, 'epoch': 1.45}\n",
      "{'loss': 0.4262, 'grad_norm': 11.675211906433105, 'learning_rate': 3.45e-05, 'epoch': 1.51}\n",
      "{'loss': 0.4044, 'grad_norm': 19.519872665405273, 'learning_rate': 3.6e-05, 'epoch': 1.58}\n",
      "{'loss': 0.3852, 'grad_norm': 8.668004035949707, 'learning_rate': 3.7500000000000003e-05, 'epoch': 1.64}\n",
      "{'loss': 0.4777, 'grad_norm': 9.222054481506348, 'learning_rate': 3.9000000000000006e-05, 'epoch': 1.71}\n",
      "{'loss': 0.3653, 'grad_norm': 8.105427742004395, 'learning_rate': 4.05e-05, 'epoch': 1.78}\n",
      "{'loss': 0.4171, 'grad_norm': 8.681241989135742, 'learning_rate': 4.2e-05, 'epoch': 1.84}\n",
      "{'loss': 0.3366, 'grad_norm': 4.68257474899292, 'learning_rate': 4.35e-05, 'epoch': 1.91}\n",
      "{'loss': 0.4505, 'grad_norm': 11.777504920959473, 'learning_rate': 4.5e-05, 'epoch': 1.97}\n"
     ]
    },
    {
     "data": {
      "application/vnd.jupyter.widget-view+json": {
       "model_id": "03247c1350384623883f088bacef3a92",
       "version_major": 2,
       "version_minor": 0
      },
      "text/plain": [
       "  0%|          | 0/29 [00:00<?, ?it/s]"
      ]
     },
     "metadata": {},
     "output_type": "display_data"
    },
    {
     "name": "stdout",
     "output_type": "stream",
     "text": [
      "{'eval_loss': 0.4237270951271057, 'eval_accuracy': 0.8048245614035088, 'eval_precision': 0.8030853696257346, 'eval_recall': 0.8041732145975204, 'eval_f1': 0.8035310577197714, 'eval_runtime': 19.195, 'eval_samples_per_second': 23.756, 'eval_steps_per_second': 1.511, 'epoch': 2.0}\n",
      "{'loss': 0.3087, 'grad_norm': 19.488483428955078, 'learning_rate': 4.6500000000000005e-05, 'epoch': 2.04}\n",
      "{'loss': 0.2694, 'grad_norm': 1.1958409547805786, 'learning_rate': 4.8e-05, 'epoch': 2.11}\n",
      "{'loss': 0.3181, 'grad_norm': 34.84136199951172, 'learning_rate': 4.9500000000000004e-05, 'epoch': 2.17}\n",
      "{'loss': 0.2346, 'grad_norm': 18.119441986083984, 'learning_rate': 4.921875e-05, 'epoch': 2.24}\n",
      "{'loss': 0.2301, 'grad_norm': 7.944274425506592, 'learning_rate': 4.8046875e-05, 'epoch': 2.3}\n",
      "{'loss': 0.2684, 'grad_norm': 31.6678409576416, 'learning_rate': 4.6875e-05, 'epoch': 2.37}\n",
      "{'loss': 0.3082, 'grad_norm': 12.241788864135742, 'learning_rate': 4.5703125e-05, 'epoch': 2.43}\n",
      "{'loss': 0.2642, 'grad_norm': 7.940335273742676, 'learning_rate': 4.453125e-05, 'epoch': 2.5}\n",
      "{'loss': 0.2699, 'grad_norm': 4.801930904388428, 'learning_rate': 4.3359375e-05, 'epoch': 2.57}\n",
      "{'loss': 0.2837, 'grad_norm': 3.3393619060516357, 'learning_rate': 4.21875e-05, 'epoch': 2.63}\n",
      "{'loss': 0.3628, 'grad_norm': 2.4871973991394043, 'learning_rate': 4.1015625e-05, 'epoch': 2.7}\n",
      "{'loss': 0.3012, 'grad_norm': 14.370272636413574, 'learning_rate': 3.984375e-05, 'epoch': 2.76}\n",
      "{'loss': 0.2679, 'grad_norm': 5.827903747558594, 'learning_rate': 3.8671875e-05, 'epoch': 2.83}\n",
      "{'loss': 0.2654, 'grad_norm': 5.710991382598877, 'learning_rate': 3.7500000000000003e-05, 'epoch': 2.89}\n",
      "{'loss': 0.3151, 'grad_norm': 4.610592842102051, 'learning_rate': 3.6328125000000004e-05, 'epoch': 2.96}\n"
     ]
    },
    {
     "data": {
      "application/vnd.jupyter.widget-view+json": {
       "model_id": "3e17a54b26ed479fb7c1055f4282d2f3",
       "version_major": 2,
       "version_minor": 0
      },
      "text/plain": [
       "  0%|          | 0/29 [00:00<?, ?it/s]"
      ]
     },
     "metadata": {},
     "output_type": "display_data"
    },
    {
     "name": "stdout",
     "output_type": "stream",
     "text": [
      "{'eval_loss': 0.4266470670700073, 'eval_accuracy': 0.831140350877193, 'eval_precision': 0.8308080808080809, 'eval_recall': 0.8278621733310052, 'eval_f1': 0.829001387975747, 'eval_runtime': 23.127, 'eval_samples_per_second': 19.717, 'eval_steps_per_second': 1.254, 'epoch': 3.0}\n",
      "{'loss': 0.1953, 'grad_norm': 15.099349021911621, 'learning_rate': 3.5156250000000004e-05, 'epoch': 3.03}\n",
      "{'loss': 0.1438, 'grad_norm': 9.023579597473145, 'learning_rate': 3.3984375000000004e-05, 'epoch': 3.09}\n",
      "{'loss': 0.2184, 'grad_norm': 19.188974380493164, 'learning_rate': 3.2812500000000005e-05, 'epoch': 3.16}\n",
      "{'loss': 0.1508, 'grad_norm': 1.7518222332000732, 'learning_rate': 3.1640625e-05, 'epoch': 3.22}\n",
      "{'loss': 0.1816, 'grad_norm': 18.01801872253418, 'learning_rate': 3.0468750000000002e-05, 'epoch': 3.29}\n",
      "{'loss': 0.1201, 'grad_norm': 2.092465877532959, 'learning_rate': 2.9296875000000002e-05, 'epoch': 3.36}\n",
      "{'loss': 0.1443, 'grad_norm': 1.3128206729888916, 'learning_rate': 2.8125000000000003e-05, 'epoch': 3.42}\n",
      "{'loss': 0.1188, 'grad_norm': 4.936898231506348, 'learning_rate': 2.6953125000000003e-05, 'epoch': 3.49}\n",
      "{'loss': 0.1919, 'grad_norm': 1.0764371156692505, 'learning_rate': 2.578125e-05, 'epoch': 3.55}\n",
      "{'loss': 0.1405, 'grad_norm': 1.2468565702438354, 'learning_rate': 2.4609375e-05, 'epoch': 3.62}\n",
      "{'loss': 0.1785, 'grad_norm': 10.786856651306152, 'learning_rate': 2.34375e-05, 'epoch': 3.68}\n",
      "{'loss': 0.1688, 'grad_norm': 0.6581079363822937, 'learning_rate': 2.2265625e-05, 'epoch': 3.75}\n",
      "{'loss': 0.1363, 'grad_norm': 2.2316536903381348, 'learning_rate': 2.109375e-05, 'epoch': 3.82}\n",
      "{'loss': 0.1989, 'grad_norm': 13.348716735839844, 'learning_rate': 1.9921875e-05, 'epoch': 3.88}\n",
      "{'loss': 0.3718, 'grad_norm': 21.999237060546875, 'learning_rate': 1.8750000000000002e-05, 'epoch': 3.95}\n"
     ]
    },
    {
     "data": {
      "application/vnd.jupyter.widget-view+json": {
       "model_id": "9bf50bea9fe742f283c3e512696fc834",
       "version_major": 2,
       "version_minor": 0
      },
      "text/plain": [
       "  0%|          | 0/29 [00:00<?, ?it/s]"
      ]
     },
     "metadata": {},
     "output_type": "display_data"
    },
    {
     "name": "stdout",
     "output_type": "stream",
     "text": [
      "{'eval_loss': 0.7052695751190186, 'eval_accuracy': 0.8135964912280702, 'eval_precision': 0.8176218428979687, 'eval_recall': 0.819131598859205, 'eval_f1': 0.8135525549938187, 'eval_runtime': 27.037, 'eval_samples_per_second': 16.866, 'eval_steps_per_second': 1.073, 'epoch': 4.0}\n",
      "{'loss': 0.0843, 'grad_norm': 4.065337181091309, 'learning_rate': 1.7578125000000002e-05, 'epoch': 4.01}\n",
      "{'loss': 0.0808, 'grad_norm': 12.534356117248535, 'learning_rate': 1.6406250000000002e-05, 'epoch': 4.08}\n",
      "{'loss': 0.0902, 'grad_norm': 0.5454608201980591, 'learning_rate': 1.5234375000000001e-05, 'epoch': 4.14}\n",
      "{'loss': 0.0495, 'grad_norm': 12.187219619750977, 'learning_rate': 1.4062500000000001e-05, 'epoch': 4.21}\n",
      "{'loss': 0.0761, 'grad_norm': 0.07699603587388992, 'learning_rate': 1.2890625e-05, 'epoch': 4.28}\n",
      "{'loss': 0.0867, 'grad_norm': 0.12628336250782013, 'learning_rate': 1.171875e-05, 'epoch': 4.34}\n",
      "{'loss': 0.0675, 'grad_norm': 42.31182098388672, 'learning_rate': 1.0546875e-05, 'epoch': 4.41}\n",
      "{'loss': 0.062, 'grad_norm': 0.5703906416893005, 'learning_rate': 9.375000000000001e-06, 'epoch': 4.47}\n",
      "{'loss': 0.1117, 'grad_norm': 1.5834709405899048, 'learning_rate': 8.203125000000001e-06, 'epoch': 4.54}\n",
      "{'loss': 0.0722, 'grad_norm': 7.077230930328369, 'learning_rate': 7.031250000000001e-06, 'epoch': 4.61}\n",
      "{'loss': 0.1018, 'grad_norm': 0.5823940634727478, 'learning_rate': 5.859375e-06, 'epoch': 4.67}\n",
      "{'loss': 0.0589, 'grad_norm': 0.029453372582793236, 'learning_rate': 4.6875000000000004e-06, 'epoch': 4.74}\n",
      "{'loss': 0.094, 'grad_norm': 2.6110777854919434, 'learning_rate': 3.5156250000000003e-06, 'epoch': 4.8}\n",
      "{'loss': 0.0985, 'grad_norm': 0.017129121348261833, 'learning_rate': 2.3437500000000002e-06, 'epoch': 4.87}\n",
      "{'loss': 0.0997, 'grad_norm': 3.1253609657287598, 'learning_rate': 1.1718750000000001e-06, 'epoch': 4.93}\n",
      "{'loss': 0.0385, 'grad_norm': 0.021772781386971474, 'learning_rate': 0.0, 'epoch': 5.0}\n"
     ]
    },
    {
     "data": {
      "application/vnd.jupyter.widget-view+json": {
       "model_id": "778216455c394bc8b8cebed37982380f",
       "version_major": 2,
       "version_minor": 0
      },
      "text/plain": [
       "  0%|          | 0/29 [00:00<?, ?it/s]"
      ]
     },
     "metadata": {},
     "output_type": "display_data"
    },
    {
     "name": "stdout",
     "output_type": "stream",
     "text": [
      "{'eval_loss': 0.8614694476127625, 'eval_accuracy': 0.8486842105263158, 'eval_precision': 0.8473325109860458, 'eval_recall': 0.8496304056806938, 'eval_f1': 0.8479816402947216, 'eval_runtime': 26.6219, 'eval_samples_per_second': 17.129, 'eval_steps_per_second': 1.089, 'epoch': 5.0}\n",
      "{'train_runtime': 4845.9918, 'train_samples_per_second': 3.761, 'train_steps_per_second': 0.235, 'train_loss': 0.28651638485883413, 'epoch': 5.0}\n"
     ]
    },
    {
     "data": {
      "text/plain": [
       "TrainOutput(global_step=1140, training_loss=0.28651638485883413, metrics={'train_runtime': 4845.9918, 'train_samples_per_second': 3.761, 'train_steps_per_second': 0.235, 'total_flos': 374624920620000.0, 'train_loss': 0.28651638485883413, 'epoch': 5.0})"
      ]
     },
     "execution_count": 16,
     "metadata": {},
     "output_type": "execute_result"
    }
   ],
   "source": [
    "from transformers import Trainer, TrainingArguments\n",
    "\n",
    "training_args = TrainingArguments(\n",
    "  # learning_rate=5e-5,\n",
    "  max_grad_norm=0.5,\n",
    "  output_dir='./results',          \n",
    "  num_train_epochs=5,             \n",
    "  per_device_train_batch_size=16,  \n",
    "  per_device_eval_batch_size=16,  \n",
    "  warmup_steps=500,                \n",
    "  weight_decay=0.01,          \n",
    "  logging_dir='./logs',        \n",
    "  logging_steps=15,\n",
    "  eval_strategy=\"epoch\",    \n",
    "  save_strategy=\"epoch\",         \n",
    "  load_best_model_at_end=True,\n",
    "  report_to=\"none\",  # Disable W&B integration\n",
    ")\n",
    "\n",
    "trainer = Trainer(\n",
    "  model=model,                      \n",
    "  args=training_args,                 \n",
    "  train_dataset=train_dataset,        \n",
    "  eval_dataset=val_dataset,\n",
    "  compute_metrics=compute_metrics            \n",
    ")\n",
    "\n",
    "# Train the model\n",
    "trainer.train()"
   ]
  },
  {
   "cell_type": "markdown",
   "metadata": {},
   "source": [
    "### Evaluate the model"
   ]
  },
  {
   "cell_type": "code",
   "execution_count": 21,
   "metadata": {},
   "outputs": [
    {
     "data": {
      "application/vnd.jupyter.widget-view+json": {
       "model_id": "f018c82759f1474d8b943f564f0ebde7",
       "version_major": 2,
       "version_minor": 0
      },
      "text/plain": [
       "  0%|          | 0/29 [00:00<?, ?it/s]"
      ]
     },
     "metadata": {},
     "output_type": "display_data"
    },
    {
     "name": "stdout",
     "output_type": "stream",
     "text": [
      "{'eval_loss': 0.3889409303665161, 'eval_accuracy': 0.8223684210526315, 'eval_precision': 0.821055165110234, 'eval_recall': 0.8243464052287581, 'eval_f1': 0.8215436646938037, 'eval_runtime': 25.911, 'eval_samples_per_second': 17.599, 'eval_steps_per_second': 1.119, 'epoch': 5.0}\n"
     ]
    }
   ],
   "source": [
    "test_results = trainer.evaluate(eval_dataset=test_dataset)\n",
    "print(test_results)"
   ]
  },
  {
   "cell_type": "code",
   "execution_count": 22,
   "metadata": {},
   "outputs": [
    {
     "data": {
      "application/vnd.jupyter.widget-view+json": {
       "model_id": "ab41b18cf94540f19d1587019ae12266",
       "version_major": 2,
       "version_minor": 0
      },
      "text/plain": [
       "  0%|          | 0/29 [00:00<?, ?it/s]"
      ]
     },
     "metadata": {},
     "output_type": "display_data"
    },
    {
     "name": "stdout",
     "output_type": "stream",
     "text": [
      "              precision    recall  f1-score   support\n",
      "\n",
      "    Negative       0.78      0.84      0.81       204\n",
      "    Positive       0.86      0.81      0.83       252\n",
      "\n",
      "    accuracy                           0.82       456\n",
      "   macro avg       0.82      0.82      0.82       456\n",
      "weighted avg       0.83      0.82      0.82       456\n",
      "\n"
     ]
    }
   ],
   "source": [
    "predictions = trainer.predict(test_dataset)\n",
    "predicted_labels = torch.argmax(torch.tensor(predictions.predictions), dim=1).numpy()\n",
    "report = classification_report(test_labels, predicted_labels, target_names=[\"Negative\", \"Positive\"], digits=2)\n",
    "print(report)"
   ]
  },
  {
   "cell_type": "markdown",
   "metadata": {},
   "source": [
    "### Save the Fine-Tuned Model"
   ]
  },
  {
   "cell_type": "code",
   "execution_count": 18,
   "metadata": {},
   "outputs": [
    {
     "data": {
      "text/plain": [
       "('./fine_tuned_banglabert\\\\tokenizer_config.json',\n",
       " './fine_tuned_banglabert\\\\special_tokens_map.json',\n",
       " './fine_tuned_banglabert\\\\vocab.txt',\n",
       " './fine_tuned_banglabert\\\\added_tokens.json',\n",
       " './fine_tuned_banglabert\\\\tokenizer.json')"
      ]
     },
     "execution_count": 18,
     "metadata": {},
     "output_type": "execute_result"
    }
   ],
   "source": [
    "model.save_pretrained(\"./fine_tuned_banglabert\")\n",
    "tokenizer.save_pretrained(\"./fine_tuned_banglabert\")"
   ]
  }
 ],
 "metadata": {
  "kernelspec": {
   "display_name": "Python 3",
   "language": "python",
   "name": "python3"
  },
  "language_info": {
   "codemirror_mode": {
    "name": "ipython",
    "version": 3
   },
   "file_extension": ".py",
   "mimetype": "text/x-python",
   "name": "python",
   "nbconvert_exporter": "python",
   "pygments_lexer": "ipython3",
   "version": "3.11.4"
  }
 },
 "nbformat": 4,
 "nbformat_minor": 4
}
