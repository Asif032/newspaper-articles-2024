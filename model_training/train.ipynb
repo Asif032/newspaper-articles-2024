{
 "cells": [
  {
   "cell_type": "code",
   "execution_count": 35,
   "metadata": {},
   "outputs": [],
   "source": [
    "import pandas as pd\n",
    "import torch\n",
    "from torch.utils.data import DataLoader, TensorDataset\n",
    "from transformers import AutoModelForSequenceClassification, AutoTokenizer\n",
    "from sklearn.metrics import accuracy_score, classification_report"
   ]
  },
  {
   "cell_type": "markdown",
   "metadata": {},
   "source": [
    "### 1.Load pre-trained BanglaBERT and Tokenizer"
   ]
  },
  {
   "cell_type": "code",
   "execution_count": 36,
   "metadata": {},
   "outputs": [
    {
     "name": "stderr",
     "output_type": "stream",
     "text": [
      "Some weights of BertForSequenceClassification were not initialized from the model checkpoint at sagorsarker/bangla-bert-base and are newly initialized: ['classifier.bias', 'classifier.weight']\n",
      "You should probably TRAIN this model on a down-stream task to be able to use it for predictions and inference.\n"
     ]
    }
   ],
   "source": [
    "model = AutoModelForSequenceClassification.from_pretrained(\"sagorsarker/bangla-bert-base\", num_labels=2)\n",
    "tokenizer = AutoTokenizer.from_pretrained(\"sagorsarker/bangla-bert-base\")"
   ]
  },
  {
   "cell_type": "markdown",
   "metadata": {},
   "source": [
    "### 2. Load and Preprocess Dataset"
   ]
  },
  {
   "cell_type": "code",
   "execution_count": 37,
   "metadata": {},
   "outputs": [
    {
     "data": {
      "text/html": [
       "<div>\n",
       "<style scoped>\n",
       "    .dataframe tbody tr th:only-of-type {\n",
       "        vertical-align: middle;\n",
       "    }\n",
       "\n",
       "    .dataframe tbody tr th {\n",
       "        vertical-align: top;\n",
       "    }\n",
       "\n",
       "    .dataframe thead th {\n",
       "        text-align: right;\n",
       "    }\n",
       "</style>\n",
       "<table border=\"1\" class=\"dataframe\">\n",
       "  <thead>\n",
       "    <tr style=\"text-align: right;\">\n",
       "      <th></th>\n",
       "      <th>date_published</th>\n",
       "      <th>url</th>\n",
       "      <th>title</th>\n",
       "      <th>sample_type</th>\n",
       "      <th>newspaper</th>\n",
       "      <th>sentiment</th>\n",
       "    </tr>\n",
       "  </thead>\n",
       "  <tbody>\n",
       "    <tr>\n",
       "      <th>0</th>\n",
       "      <td>2024-06-16 18:13:20</td>\n",
       "      <td>https://www.prothomalo.com/politics/e5tc3bxkma</td>\n",
       "      <td>মিয়ানমারের সঙ্গে গায়ে পড়ে যুদ্ধ বাধানোর ইচ্ছা ...</td>\n",
       "      <td>headline</td>\n",
       "      <td>prothom_alo</td>\n",
       "      <td>1</td>\n",
       "    </tr>\n",
       "    <tr>\n",
       "      <th>1</th>\n",
       "      <td>2024-06-13 23:45:10</td>\n",
       "      <td>https://www.prothomalo.com/bangladesh/qbn6uzf2qz</td>\n",
       "      <td>প্রধানমন্ত্রী শেখ হাসিনা এবার\\nদ্বিপক্ষীয় সফরে...</td>\n",
       "      <td>headline</td>\n",
       "      <td>prothom_alo</td>\n",
       "      <td>1</td>\n",
       "    </tr>\n",
       "    <tr>\n",
       "      <th>2</th>\n",
       "      <td>2024-06-02 18:07:55</td>\n",
       "      <td>https://www.prothomalo.com/politics/rrlne6snmk</td>\n",
       "      <td>বিতর্কিতদের নিয়ে প্রশ্ন উঠছে আওয়ামী লীগে</td>\n",
       "      <td>headline</td>\n",
       "      <td>prothom_alo</td>\n",
       "      <td>0</td>\n",
       "    </tr>\n",
       "    <tr>\n",
       "      <th>3</th>\n",
       "      <td>2024-06-25 00:57:56</td>\n",
       "      <td>https://www.prothomalo.com/bangladesh/capital/...</td>\n",
       "      <td>আওয়ামী লীগের ৭৫তম প্রতিষ্ঠাবার্ষিকীতে হাতিরঝিল...</td>\n",
       "      <td>headline</td>\n",
       "      <td>prothom_alo</td>\n",
       "      <td>1</td>\n",
       "    </tr>\n",
       "    <tr>\n",
       "      <th>4</th>\n",
       "      <td>2024-05-19 09:45:00</td>\n",
       "      <td>https://www.prothomalo.com/bangladesh/district...</td>\n",
       "      <td>ঝালকাঠিতে উপজেলা নির্বাচন নিয়ে বিভক্ত আওয়ামী লীগ</td>\n",
       "      <td>headline</td>\n",
       "      <td>prothom_alo</td>\n",
       "      <td>0</td>\n",
       "    </tr>\n",
       "  </tbody>\n",
       "</table>\n",
       "</div>"
      ],
      "text/plain": [
       "        date_published                                                url  \\\n",
       "0  2024-06-16 18:13:20     https://www.prothomalo.com/politics/e5tc3bxkma   \n",
       "1  2024-06-13 23:45:10   https://www.prothomalo.com/bangladesh/qbn6uzf2qz   \n",
       "2  2024-06-02 18:07:55     https://www.prothomalo.com/politics/rrlne6snmk   \n",
       "3  2024-06-25 00:57:56  https://www.prothomalo.com/bangladesh/capital/...   \n",
       "4  2024-05-19 09:45:00  https://www.prothomalo.com/bangladesh/district...   \n",
       "\n",
       "                                               title sample_type    newspaper  \\\n",
       "0  মিয়ানমারের সঙ্গে গায়ে পড়ে যুদ্ধ বাধানোর ইচ্ছা ...    headline  prothom_alo   \n",
       "1  প্রধানমন্ত্রী শেখ হাসিনা এবার\\nদ্বিপক্ষীয় সফরে...    headline  prothom_alo   \n",
       "2           বিতর্কিতদের নিয়ে প্রশ্ন উঠছে আওয়ামী লীগে    headline  prothom_alo   \n",
       "3  আওয়ামী লীগের ৭৫তম প্রতিষ্ঠাবার্ষিকীতে হাতিরঝিল...    headline  prothom_alo   \n",
       "4   ঝালকাঠিতে উপজেলা নির্বাচন নিয়ে বিভক্ত আওয়ামী লীগ    headline  prothom_alo   \n",
       "\n",
       "   sentiment  \n",
       "0          1  \n",
       "1          1  \n",
       "2          0  \n",
       "3          1  \n",
       "4          0  "
      ]
     },
     "execution_count": 37,
     "metadata": {},
     "output_type": "execute_result"
    }
   ],
   "source": [
    "df = pd.read_csv(\"../training_data/labeled_data.csv\")\n",
    "df['sentiment'] = df['sentiment'].map({1: 1, -1: 0})\n",
    "df.head()"
   ]
  },
  {
   "cell_type": "code",
   "execution_count": 38,
   "metadata": {},
   "outputs": [
    {
     "data": {
      "text/html": [
       "<div>\n",
       "<style scoped>\n",
       "    .dataframe tbody tr th:only-of-type {\n",
       "        vertical-align: middle;\n",
       "    }\n",
       "\n",
       "    .dataframe tbody tr th {\n",
       "        vertical-align: top;\n",
       "    }\n",
       "\n",
       "    .dataframe thead th {\n",
       "        text-align: right;\n",
       "    }\n",
       "</style>\n",
       "<table border=\"1\" class=\"dataframe\">\n",
       "  <thead>\n",
       "    <tr style=\"text-align: right;\">\n",
       "      <th></th>\n",
       "      <th>date_published</th>\n",
       "      <th>url</th>\n",
       "      <th>title</th>\n",
       "      <th>sample_type</th>\n",
       "      <th>newspaper</th>\n",
       "      <th>sentiment</th>\n",
       "    </tr>\n",
       "  </thead>\n",
       "  <tbody>\n",
       "  </tbody>\n",
       "</table>\n",
       "</div>"
      ],
      "text/plain": [
       "Empty DataFrame\n",
       "Columns: [date_published, url, title, sample_type, newspaper, sentiment]\n",
       "Index: []"
      ]
     },
     "execution_count": 38,
     "metadata": {},
     "output_type": "execute_result"
    }
   ],
   "source": [
    "df[df['sentiment'].isna()]"
   ]
  },
  {
   "cell_type": "code",
   "execution_count": 39,
   "metadata": {},
   "outputs": [],
   "source": [
    "texts = df['title'].tolist()\n",
    "labels = df['sentiment'].tolist()"
   ]
  },
  {
   "cell_type": "markdown",
   "metadata": {},
   "source": [
    "### 3. Tokenize the headlines"
   ]
  },
  {
   "cell_type": "code",
   "execution_count": 40,
   "metadata": {},
   "outputs": [],
   "source": [
    "encodings = tokenizer(texts, truncation=True, padding=True, max_length=128)\n",
    "dataset = TensorDataset(\n",
    "  torch.tensor(encodings['input_ids']), \n",
    "  torch.tensor(encodings['attention_mask']), \n",
    "  torch.tensor(labels)\n",
    ")"
   ]
  },
  {
   "cell_type": "markdown",
   "metadata": {},
   "source": [
    "### 4. Create a DataLoader"
   ]
  },
  {
   "cell_type": "code",
   "execution_count": 41,
   "metadata": {},
   "outputs": [],
   "source": [
    "dataloader = DataLoader(dataset, batch_size=16)"
   ]
  },
  {
   "cell_type": "markdown",
   "metadata": {},
   "source": [
    "### 5. Evaluate the Model Without Fine Tuning"
   ]
  },
  {
   "cell_type": "code",
   "execution_count": 42,
   "metadata": {},
   "outputs": [
    {
     "name": "stderr",
     "output_type": "stream",
     "text": [
      "Evaluating: 100%|██████████| 285/285 [06:43<00:00,  1.42s/batch]\n"
     ]
    }
   ],
   "source": [
    "from tqdm import tqdm\n",
    "\n",
    "model.eval()\n",
    "all_predictions, all_labels = [], []\n",
    "\n",
    "with torch.no_grad():\n",
    "  for batch in tqdm(dataloader, desc=\"Evaluating\", unit=\"batch\"):\n",
    "    input_ids, attention_mask, labels = batch\n",
    "    outputs = model(input_ids=input_ids, attention_mask=attention_mask)\n",
    "    logits = outputs.logits\n",
    "    predictions = torch.argmax(logits, dim=-1)\n",
    "    all_predictions.extend(predictions.cpu().numpy())\n",
    "    all_labels.extend(labels.cpu().numpy())"
   ]
  },
  {
   "cell_type": "markdown",
   "metadata": {},
   "source": [
    "### 6. Calculate And Display Metrics"
   ]
  },
  {
   "cell_type": "code",
   "execution_count": 43,
   "metadata": {},
   "outputs": [
    {
     "name": "stdout",
     "output_type": "stream",
     "text": [
      "Accuracy without fine tuning: 46.72%\n"
     ]
    }
   ],
   "source": [
    "accuracy = accuracy_score(all_labels, all_predictions)\n",
    "print(f\"Accuracy without fine tuning: {accuracy * 100:.2f}%\")"
   ]
  },
  {
   "cell_type": "markdown",
   "metadata": {},
   "source": [
    "### 7. Detailed Classification Report"
   ]
  },
  {
   "cell_type": "code",
   "execution_count": 44,
   "metadata": {},
   "outputs": [
    {
     "name": "stdout",
     "output_type": "stream",
     "text": [
      "              precision    recall  f1-score   support\n",
      "\n",
      "    Negative       0.46      0.85      0.60      2118\n",
      "    Positive       0.51      0.14      0.22      2439\n",
      "\n",
      "    accuracy                           0.47      4557\n",
      "   macro avg       0.48      0.49      0.41      4557\n",
      "weighted avg       0.49      0.47      0.39      4557\n",
      "\n"
     ]
    }
   ],
   "source": [
    "print(classification_report(all_labels, all_predictions, target_names=['Negative', 'Positive']))"
   ]
  },
  {
   "cell_type": "markdown",
   "metadata": {},
   "source": [
    "## Train the model"
   ]
  },
  {
   "cell_type": "code",
   "execution_count": 45,
   "metadata": {},
   "outputs": [],
   "source": [
    "from sklearn.model_selection import train_test_split\n",
    "from transformers import AutoTokenizer\n",
    "import torch\n",
    "import accelerate"
   ]
  },
  {
   "cell_type": "markdown",
   "metadata": {},
   "source": [
    "### 1. Split into Train, Validation and Test Sets"
   ]
  },
  {
   "cell_type": "code",
   "execution_count": 46,
   "metadata": {},
   "outputs": [],
   "source": [
    "\n",
    "train_texts, temp_texts, train_labels, temp_labels = train_test_split(\n",
    "  df['title'].tolist(), df['sentiment'].tolist(), test_size=0.2, random_state=42\n",
    ")\n",
    "val_texts, test_texts, val_labels, test_labels = train_test_split(\n",
    "  temp_texts, temp_labels, test_size=0.5, random_state=42\n",
    ")"
   ]
  },
  {
   "cell_type": "markdown",
   "metadata": {},
   "source": [
    "### 2. Tokenize"
   ]
  },
  {
   "cell_type": "code",
   "execution_count": 47,
   "metadata": {},
   "outputs": [],
   "source": [
    "\n",
    "tokenizer = AutoTokenizer.from_pretrained(\"sagorsarker/bangla-bert-base\")\n",
    "\n",
    "train_encodings = tokenizer(train_texts, truncation=True, padding=True, max_length=128)\n",
    "val_encodings = tokenizer(val_texts, truncation=True, padding=True, max_length=128)\n",
    "test_encodings = tokenizer(test_texts, truncation=True, padding=True, max_length=128)"
   ]
  },
  {
   "cell_type": "markdown",
   "metadata": {},
   "source": [
    "### 3. Prepare Data for PyTorch"
   ]
  },
  {
   "cell_type": "code",
   "execution_count": 48,
   "metadata": {},
   "outputs": [],
   "source": [
    "class SentimentDataset(torch.utils.data.Dataset):\n",
    "  def __init__(self, encodings, labels):\n",
    "    self.encodings = encodings\n",
    "    self.labels = labels\n",
    "\n",
    "  def __len__(self):\n",
    "    return len(self.labels)\n",
    "\n",
    "  def __getitem__(self, idx):\n",
    "    item = {key: torch.tensor(val[idx]) for key, val in self.encodings.items()}\n",
    "    item['labels'] = torch.tensor(self.labels[idx])\n",
    "    return item\n",
    "\n",
    "train_dataset = SentimentDataset(train_encodings, train_labels)\n",
    "val_dataset = SentimentDataset(val_encodings, val_labels)\n",
    "test_dataset = SentimentDataset(test_encodings, test_labels)"
   ]
  },
  {
   "cell_type": "markdown",
   "metadata": {},
   "source": [
    "### 4. Define a compute_metrics Function for Evaluation"
   ]
  },
  {
   "cell_type": "code",
   "execution_count": 49,
   "metadata": {},
   "outputs": [],
   "source": [
    "\n",
    "def compute_metrics(pred):\n",
    "  predictions = torch.argmax(torch.tensor(pred.predictions), dim=-1).numpy()\n",
    "  labels = pred.label_ids\n",
    "  report = classification_report(labels, predictions, target_names=[\"Negative\", \"Positive\"], output_dict=True)\n",
    "  \n",
    "  accuracy = report['accuracy']\n",
    "  precision = report['macro avg']['precision']\n",
    "  recall = report['macro avg']['recall']\n",
    "  f1 = report['macro avg']['f1-score']\n",
    "  \n",
    "  return {\n",
    "    'accuracy': accuracy,\n",
    "    'precision': precision,\n",
    "    'recall': recall,\n",
    "    'f1': f1\n",
    "  }"
   ]
  },
  {
   "cell_type": "markdown",
   "metadata": {},
   "source": [
    "### 5. Fine-Tune the model"
   ]
  },
  {
   "cell_type": "code",
   "execution_count": 50,
   "metadata": {},
   "outputs": [
    {
     "data": {
      "application/vnd.jupyter.widget-view+json": {
       "model_id": "711638618a8b479f9face00e746adf92",
       "version_major": 2,
       "version_minor": 0
      },
      "text/plain": [
       "  0%|          | 0/1140 [00:00<?, ?it/s]"
      ]
     },
     "metadata": {},
     "output_type": "display_data"
    },
    {
     "name": "stdout",
     "output_type": "stream",
     "text": [
      "{'loss': 0.7245, 'grad_norm': 4.642988204956055, 'learning_rate': 1.5e-06, 'epoch': 0.07}\n",
      "{'loss': 0.6821, 'grad_norm': 3.7675275802612305, 'learning_rate': 3e-06, 'epoch': 0.13}\n",
      "{'loss': 0.6557, 'grad_norm': 4.110259532928467, 'learning_rate': 4.5e-06, 'epoch': 0.2}\n",
      "{'loss': 0.6311, 'grad_norm': 5.932863712310791, 'learning_rate': 6e-06, 'epoch': 0.26}\n",
      "{'loss': 0.579, 'grad_norm': 5.716725826263428, 'learning_rate': 7.5e-06, 'epoch': 0.33}\n",
      "{'loss': 0.5103, 'grad_norm': 6.16485595703125, 'learning_rate': 9e-06, 'epoch': 0.39}\n",
      "{'loss': 0.4597, 'grad_norm': 9.783946990966797, 'learning_rate': 1.05e-05, 'epoch': 0.46}\n",
      "{'loss': 0.4641, 'grad_norm': 11.104312896728516, 'learning_rate': 1.2e-05, 'epoch': 0.53}\n",
      "{'loss': 0.4909, 'grad_norm': 10.016702651977539, 'learning_rate': 1.3500000000000001e-05, 'epoch': 0.59}\n",
      "{'loss': 0.4628, 'grad_norm': 11.178995132446289, 'learning_rate': 1.5e-05, 'epoch': 0.66}\n",
      "{'loss': 0.4938, 'grad_norm': 12.908051490783691, 'learning_rate': 1.65e-05, 'epoch': 0.72}\n",
      "{'loss': 0.4811, 'grad_norm': 12.275123596191406, 'learning_rate': 1.8e-05, 'epoch': 0.79}\n",
      "{'loss': 0.4393, 'grad_norm': 12.834672927856445, 'learning_rate': 1.9500000000000003e-05, 'epoch': 0.86}\n",
      "{'loss': 0.4233, 'grad_norm': 5.809824466705322, 'learning_rate': 2.1e-05, 'epoch': 0.92}\n",
      "{'loss': 0.4015, 'grad_norm': 5.346443176269531, 'learning_rate': 2.25e-05, 'epoch': 0.99}\n"
     ]
    },
    {
     "data": {
      "application/vnd.jupyter.widget-view+json": {
       "model_id": "16b30a5ab37d477fab2d6999d13a6984",
       "version_major": 2,
       "version_minor": 0
      },
      "text/plain": [
       "  0%|          | 0/29 [00:00<?, ?it/s]"
      ]
     },
     "metadata": {},
     "output_type": "display_data"
    },
    {
     "name": "stdout",
     "output_type": "stream",
     "text": [
      "{'eval_loss': 0.4166795015335083, 'eval_accuracy': 0.793859649122807, 'eval_precision': 0.7927216713199191, 'eval_recall': 0.7949479075723183, 'eval_f1': 0.7930794778713215, 'eval_runtime': 32.9105, 'eval_samples_per_second': 13.856, 'eval_steps_per_second': 0.881, 'epoch': 1.0}\n",
      "{'loss': 0.3846, 'grad_norm': 7.922717094421387, 'learning_rate': 2.4e-05, 'epoch': 1.05}\n",
      "{'loss': 0.3455, 'grad_norm': 20.084924697875977, 'learning_rate': 2.5500000000000003e-05, 'epoch': 1.12}\n",
      "{'loss': 0.4041, 'grad_norm': 12.209802627563477, 'learning_rate': 2.7000000000000002e-05, 'epoch': 1.18}\n",
      "{'loss': 0.2911, 'grad_norm': 5.304938316345215, 'learning_rate': 2.8499999999999998e-05, 'epoch': 1.25}\n",
      "{'loss': 0.356, 'grad_norm': 14.357898712158203, 'learning_rate': 3e-05, 'epoch': 1.32}\n",
      "{'loss': 0.2668, 'grad_norm': 10.258506774902344, 'learning_rate': 3.15e-05, 'epoch': 1.38}\n",
      "{'loss': 0.3775, 'grad_norm': 14.778487205505371, 'learning_rate': 3.3e-05, 'epoch': 1.45}\n",
      "{'loss': 0.4615, 'grad_norm': 11.409733772277832, 'learning_rate': 3.45e-05, 'epoch': 1.51}\n",
      "{'loss': 0.3888, 'grad_norm': 15.860650062561035, 'learning_rate': 3.6e-05, 'epoch': 1.58}\n",
      "{'loss': 0.3707, 'grad_norm': 8.477150917053223, 'learning_rate': 3.7500000000000003e-05, 'epoch': 1.64}\n",
      "{'loss': 0.4416, 'grad_norm': 8.148642539978027, 'learning_rate': 3.9000000000000006e-05, 'epoch': 1.71}\n",
      "{'loss': 0.3761, 'grad_norm': 7.483947277069092, 'learning_rate': 4.05e-05, 'epoch': 1.78}\n",
      "{'loss': 0.4402, 'grad_norm': 8.381704330444336, 'learning_rate': 4.2e-05, 'epoch': 1.84}\n",
      "{'loss': 0.3585, 'grad_norm': 4.065713405609131, 'learning_rate': 4.35e-05, 'epoch': 1.91}\n",
      "{'loss': 0.4529, 'grad_norm': 4.816996097564697, 'learning_rate': 4.5e-05, 'epoch': 1.97}\n"
     ]
    },
    {
     "data": {
      "application/vnd.jupyter.widget-view+json": {
       "model_id": "ddcd1db06ad3472cb9fb1c692329cb1a",
       "version_major": 2,
       "version_minor": 0
      },
      "text/plain": [
       "  0%|          | 0/29 [00:00<?, ?it/s]"
      ]
     },
     "metadata": {},
     "output_type": "display_data"
    },
    {
     "name": "stdout",
     "output_type": "stream",
     "text": [
      "{'eval_loss': 0.4683535397052765, 'eval_accuracy': 0.7850877192982456, 'eval_precision': 0.8076544450025114, 'eval_recall': 0.7971014492753623, 'eval_f1': 0.7843867605905626, 'eval_runtime': 34.2715, 'eval_samples_per_second': 13.306, 'eval_steps_per_second': 0.846, 'epoch': 2.0}\n",
      "{'loss': 0.3664, 'grad_norm': 7.8909711837768555, 'learning_rate': 4.6500000000000005e-05, 'epoch': 2.04}\n",
      "{'loss': 0.2526, 'grad_norm': 0.9803512096405029, 'learning_rate': 4.8e-05, 'epoch': 2.11}\n",
      "{'loss': 0.2547, 'grad_norm': 27.86567497253418, 'learning_rate': 4.9500000000000004e-05, 'epoch': 2.17}\n",
      "{'loss': 0.3168, 'grad_norm': 19.144290924072266, 'learning_rate': 4.921875e-05, 'epoch': 2.24}\n",
      "{'loss': 0.2177, 'grad_norm': 16.90492820739746, 'learning_rate': 4.8046875e-05, 'epoch': 2.3}\n",
      "{'loss': 0.2676, 'grad_norm': 14.057941436767578, 'learning_rate': 4.6875e-05, 'epoch': 2.37}\n",
      "{'loss': 0.2674, 'grad_norm': 19.980239868164062, 'learning_rate': 4.5703125e-05, 'epoch': 2.43}\n",
      "{'loss': 0.2929, 'grad_norm': 8.536001205444336, 'learning_rate': 4.453125e-05, 'epoch': 2.5}\n",
      "{'loss': 0.2973, 'grad_norm': 5.982570648193359, 'learning_rate': 4.3359375e-05, 'epoch': 2.57}\n",
      "{'loss': 0.328, 'grad_norm': 9.6260404586792, 'learning_rate': 4.21875e-05, 'epoch': 2.63}\n",
      "{'loss': 0.3203, 'grad_norm': 4.243383884429932, 'learning_rate': 4.1015625e-05, 'epoch': 2.7}\n",
      "{'loss': 0.2809, 'grad_norm': 16.693023681640625, 'learning_rate': 3.984375e-05, 'epoch': 2.76}\n",
      "{'loss': 0.3247, 'grad_norm': 7.631252765655518, 'learning_rate': 3.8671875e-05, 'epoch': 2.83}\n",
      "{'loss': 0.2714, 'grad_norm': 18.827138900756836, 'learning_rate': 3.7500000000000003e-05, 'epoch': 2.89}\n",
      "{'loss': 0.2779, 'grad_norm': 3.4158382415771484, 'learning_rate': 3.6328125000000004e-05, 'epoch': 2.96}\n"
     ]
    },
    {
     "data": {
      "application/vnd.jupyter.widget-view+json": {
       "model_id": "712e79235d8748feba0e6c3848ed04f4",
       "version_major": 2,
       "version_minor": 0
      },
      "text/plain": [
       "  0%|          | 0/29 [00:00<?, ?it/s]"
      ]
     },
     "metadata": {},
     "output_type": "display_data"
    },
    {
     "name": "stdout",
     "output_type": "stream",
     "text": [
      "{'eval_loss': 0.49421483278274536, 'eval_accuracy': 0.8201754385964912, 'eval_precision': 0.8261952493773161, 'eval_recall': 0.8125254641755428, 'eval_f1': 0.8155776515151516, 'eval_runtime': 42.6682, 'eval_samples_per_second': 10.687, 'eval_steps_per_second': 0.68, 'epoch': 3.0}\n",
      "{'loss': 0.1934, 'grad_norm': 11.739583969116211, 'learning_rate': 3.5156250000000004e-05, 'epoch': 3.03}\n",
      "{'loss': 0.125, 'grad_norm': 1.624236822128296, 'learning_rate': 3.3984375000000004e-05, 'epoch': 3.09}\n",
      "{'loss': 0.1715, 'grad_norm': 14.453299522399902, 'learning_rate': 3.2812500000000005e-05, 'epoch': 3.16}\n",
      "{'loss': 0.1835, 'grad_norm': 11.616009712219238, 'learning_rate': 3.1640625e-05, 'epoch': 3.22}\n",
      "{'loss': 0.2182, 'grad_norm': 1.4407237768173218, 'learning_rate': 3.0468750000000002e-05, 'epoch': 3.29}\n",
      "{'loss': 0.2221, 'grad_norm': 27.32814598083496, 'learning_rate': 2.9296875000000002e-05, 'epoch': 3.36}\n",
      "{'loss': 0.124, 'grad_norm': 0.2729629576206207, 'learning_rate': 2.8125000000000003e-05, 'epoch': 3.42}\n",
      "{'loss': 0.0941, 'grad_norm': 10.708538055419922, 'learning_rate': 2.6953125000000003e-05, 'epoch': 3.49}\n",
      "{'loss': 0.186, 'grad_norm': 10.495033264160156, 'learning_rate': 2.578125e-05, 'epoch': 3.55}\n",
      "{'loss': 0.1224, 'grad_norm': 1.9787750244140625, 'learning_rate': 2.4609375e-05, 'epoch': 3.62}\n",
      "{'loss': 0.1764, 'grad_norm': 14.247241020202637, 'learning_rate': 2.34375e-05, 'epoch': 3.68}\n",
      "{'loss': 0.2291, 'grad_norm': 10.691948890686035, 'learning_rate': 2.2265625e-05, 'epoch': 3.75}\n",
      "{'loss': 0.2364, 'grad_norm': 1.628857970237732, 'learning_rate': 2.109375e-05, 'epoch': 3.82}\n",
      "{'loss': 0.1466, 'grad_norm': 14.0609712600708, 'learning_rate': 1.9921875e-05, 'epoch': 3.88}\n",
      "{'loss': 0.2158, 'grad_norm': 37.9882698059082, 'learning_rate': 1.8750000000000002e-05, 'epoch': 3.95}\n"
     ]
    },
    {
     "data": {
      "application/vnd.jupyter.widget-view+json": {
       "model_id": "f5291f82277f47b4889ae6be21100b20",
       "version_major": 2,
       "version_minor": 0
      },
      "text/plain": [
       "  0%|          | 0/29 [00:00<?, ?it/s]"
      ]
     },
     "metadata": {},
     "output_type": "display_data"
    },
    {
     "name": "stdout",
     "output_type": "stream",
     "text": [
      "{'eval_loss': 0.6631172299385071, 'eval_accuracy': 0.8201754385964912, 'eval_precision': 0.8213399026155237, 'eval_recall': 0.823933414818695, 'eval_f1': 0.8199537750385206, 'eval_runtime': 32.1712, 'eval_samples_per_second': 14.174, 'eval_steps_per_second': 0.901, 'epoch': 4.0}\n",
      "{'loss': 0.0978, 'grad_norm': 0.35816287994384766, 'learning_rate': 1.7578125000000002e-05, 'epoch': 4.01}\n",
      "{'loss': 0.0594, 'grad_norm': 5.227641582489014, 'learning_rate': 1.6406250000000002e-05, 'epoch': 4.08}\n",
      "{'loss': 0.0434, 'grad_norm': 5.600642681121826, 'learning_rate': 1.5234375000000001e-05, 'epoch': 4.14}\n",
      "{'loss': 0.0868, 'grad_norm': 24.080400466918945, 'learning_rate': 1.4062500000000001e-05, 'epoch': 4.21}\n",
      "{'loss': 0.119, 'grad_norm': 29.9935245513916, 'learning_rate': 1.2890625e-05, 'epoch': 4.28}\n",
      "{'loss': 0.0996, 'grad_norm': 0.03621614724397659, 'learning_rate': 1.171875e-05, 'epoch': 4.34}\n",
      "{'loss': 0.03, 'grad_norm': 0.02660064399242401, 'learning_rate': 1.0546875e-05, 'epoch': 4.41}\n",
      "{'loss': 0.0395, 'grad_norm': 3.3199498653411865, 'learning_rate': 9.375000000000001e-06, 'epoch': 4.47}\n",
      "{'loss': 0.0968, 'grad_norm': 19.959205627441406, 'learning_rate': 8.203125000000001e-06, 'epoch': 4.54}\n",
      "{'loss': 0.1406, 'grad_norm': 53.706417083740234, 'learning_rate': 7.031250000000001e-06, 'epoch': 4.61}\n",
      "{'loss': 0.0461, 'grad_norm': 4.587871074676514, 'learning_rate': 5.859375e-06, 'epoch': 4.67}\n",
      "{'loss': 0.0379, 'grad_norm': 0.05801592394709587, 'learning_rate': 4.6875000000000004e-06, 'epoch': 4.74}\n",
      "{'loss': 0.0473, 'grad_norm': 10.360750198364258, 'learning_rate': 3.5156250000000003e-06, 'epoch': 4.8}\n",
      "{'loss': 0.037, 'grad_norm': 0.03844548389315605, 'learning_rate': 2.3437500000000002e-06, 'epoch': 4.87}\n",
      "{'loss': 0.0971, 'grad_norm': 12.784688949584961, 'learning_rate': 1.1718750000000001e-06, 'epoch': 4.93}\n",
      "{'loss': 0.1014, 'grad_norm': 0.6168988943099976, 'learning_rate': 0.0, 'epoch': 5.0}\n"
     ]
    },
    {
     "data": {
      "application/vnd.jupyter.widget-view+json": {
       "model_id": "c61352d054744379828ccad4432caee5",
       "version_major": 2,
       "version_minor": 0
      },
      "text/plain": [
       "  0%|          | 0/29 [00:00<?, ?it/s]"
      ]
     },
     "metadata": {},
     "output_type": "display_data"
    },
    {
     "name": "stdout",
     "output_type": "stream",
     "text": [
      "{'eval_loss': 1.0611993074417114, 'eval_accuracy': 0.8201754385964912, 'eval_precision': 0.818695409058481, 'eval_recall': 0.820674000349223, 'eval_f1': 0.8192854933498299, 'eval_runtime': 34.7182, 'eval_samples_per_second': 13.134, 'eval_steps_per_second': 0.835, 'epoch': 5.0}\n",
      "{'train_runtime': 7092.3174, 'train_samples_per_second': 2.57, 'train_steps_per_second': 0.161, 'train_loss': 0.28652230610972956, 'epoch': 5.0}\n"
     ]
    },
    {
     "data": {
      "text/plain": [
       "TrainOutput(global_step=1140, training_loss=0.28652230610972956, metrics={'train_runtime': 7092.3174, 'train_samples_per_second': 2.57, 'train_steps_per_second': 0.161, 'total_flos': 374624920620000.0, 'train_loss': 0.28652230610972956, 'epoch': 5.0})"
      ]
     },
     "execution_count": 50,
     "metadata": {},
     "output_type": "execute_result"
    }
   ],
   "source": [
    "from transformers import Trainer, TrainingArguments\n",
    "\n",
    "training_args = TrainingArguments(\n",
    "  # learning_rate=5e-5,\n",
    "  max_grad_norm=0.5,\n",
    "  output_dir='./results',          \n",
    "  num_train_epochs=5,             \n",
    "  per_device_train_batch_size=16,  \n",
    "  per_device_eval_batch_size=16,  \n",
    "  warmup_steps=500,                \n",
    "  weight_decay=0.01,          \n",
    "  logging_dir='./logs',        \n",
    "  logging_steps=15,\n",
    "  eval_strategy=\"epoch\",    \n",
    "  save_strategy=\"epoch\",         \n",
    "  load_best_model_at_end=True,\n",
    "  disable_tqdm=False,\n",
    "  # report_to=\"none\",  # Disable W&B integration\n",
    ")\n",
    "\n",
    "trainer = Trainer(\n",
    "  model=model,                      \n",
    "  args=training_args,                 \n",
    "  train_dataset=train_dataset,        \n",
    "  eval_dataset=val_dataset,\n",
    "  compute_metrics=compute_metrics            \n",
    ")\n",
    "\n",
    "# Train the model\n",
    "trainer.train()"
   ]
  },
  {
   "cell_type": "markdown",
   "metadata": {},
   "source": [
    "### Evaluate the model"
   ]
  },
  {
   "cell_type": "code",
   "execution_count": 51,
   "metadata": {},
   "outputs": [
    {
     "data": {
      "application/vnd.jupyter.widget-view+json": {
       "model_id": "1ce56d9becf24c6d98414a117069cbde",
       "version_major": 2,
       "version_minor": 0
      },
      "text/plain": [
       "  0%|          | 0/29 [00:00<?, ?it/s]"
      ]
     },
     "metadata": {},
     "output_type": "display_data"
    },
    {
     "name": "stdout",
     "output_type": "stream",
     "text": [
      "{'eval_loss': 0.4020768404006958, 'eval_accuracy': 0.8355263157894737, 'eval_precision': 0.8336118938878632, 'eval_recall': 0.8339169000933706, 'eval_f1': 0.8337602745385875, 'eval_runtime': 37.5809, 'eval_samples_per_second': 12.134, 'eval_steps_per_second': 0.772, 'epoch': 5.0}\n"
     ]
    }
   ],
   "source": [
    "test_results = trainer.evaluate(eval_dataset=test_dataset)\n",
    "print(test_results)"
   ]
  },
  {
   "cell_type": "markdown",
   "metadata": {},
   "source": [
    "### Save the Fine-Tuned Model"
   ]
  },
  {
   "cell_type": "code",
   "execution_count": 52,
   "metadata": {},
   "outputs": [
    {
     "data": {
      "text/plain": [
       "('./fine_tuned_banglabert\\\\tokenizer_config.json',\n",
       " './fine_tuned_banglabert\\\\special_tokens_map.json',\n",
       " './fine_tuned_banglabert\\\\vocab.txt',\n",
       " './fine_tuned_banglabert\\\\added_tokens.json',\n",
       " './fine_tuned_banglabert\\\\tokenizer.json')"
      ]
     },
     "execution_count": 52,
     "metadata": {},
     "output_type": "execute_result"
    }
   ],
   "source": [
    "model.save_pretrained(\"./fine_tuned_banglabert\")\n",
    "tokenizer.save_pretrained(\"./fine_tuned_banglabert\")"
   ]
  }
 ],
 "metadata": {
  "kernelspec": {
   "display_name": "Python 3",
   "language": "python",
   "name": "python3"
  },
  "language_info": {
   "codemirror_mode": {
    "name": "ipython",
    "version": 3
   },
   "file_extension": ".py",
   "mimetype": "text/x-python",
   "name": "python",
   "nbconvert_exporter": "python",
   "pygments_lexer": "ipython3",
   "version": "3.11.4"
  }
 },
 "nbformat": 4,
 "nbformat_minor": 4
}
